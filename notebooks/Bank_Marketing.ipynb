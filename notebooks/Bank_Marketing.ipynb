{
 "cells": [
  {
   "cell_type": "code",
   "execution_count": 574,
   "id": "522438fb",
   "metadata": {},
   "outputs": [],
   "source": [
    "import pandas as pd\n",
    "import numpy as np\n",
    "import matplotlib.pyplot as plt\n",
    "import seaborn as sns"
   ]
  },
  {
   "cell_type": "markdown",
   "id": "ea810d01",
   "metadata": {},
   "source": [
    "## Data Wrangling"
   ]
  },
  {
   "cell_type": "code",
   "execution_count": 575,
   "id": "6facddbc",
   "metadata": {},
   "outputs": [
    {
     "data": {
      "text/html": [
       "<div>\n",
       "<style scoped>\n",
       "    .dataframe tbody tr th:only-of-type {\n",
       "        vertical-align: middle;\n",
       "    }\n",
       "\n",
       "    .dataframe tbody tr th {\n",
       "        vertical-align: top;\n",
       "    }\n",
       "\n",
       "    .dataframe thead th {\n",
       "        text-align: right;\n",
       "    }\n",
       "</style>\n",
       "<table border=\"1\" class=\"dataframe\">\n",
       "  <thead>\n",
       "    <tr style=\"text-align: right;\">\n",
       "      <th></th>\n",
       "      <th>age</th>\n",
       "      <th>job</th>\n",
       "      <th>marital</th>\n",
       "      <th>education</th>\n",
       "      <th>default</th>\n",
       "      <th>housing</th>\n",
       "      <th>loan</th>\n",
       "      <th>contact</th>\n",
       "      <th>month</th>\n",
       "      <th>day_of_week</th>\n",
       "      <th>...</th>\n",
       "      <th>campaign</th>\n",
       "      <th>pdays</th>\n",
       "      <th>previous</th>\n",
       "      <th>poutcome</th>\n",
       "      <th>emp.var.rate</th>\n",
       "      <th>cons.price.idx</th>\n",
       "      <th>cons.conf.idx</th>\n",
       "      <th>euribor3m</th>\n",
       "      <th>nr.employed</th>\n",
       "      <th>y</th>\n",
       "    </tr>\n",
       "  </thead>\n",
       "  <tbody>\n",
       "    <tr>\n",
       "      <th>0</th>\n",
       "      <td>56</td>\n",
       "      <td>housemaid</td>\n",
       "      <td>married</td>\n",
       "      <td>basic.4y</td>\n",
       "      <td>no</td>\n",
       "      <td>no</td>\n",
       "      <td>no</td>\n",
       "      <td>telephone</td>\n",
       "      <td>may</td>\n",
       "      <td>mon</td>\n",
       "      <td>...</td>\n",
       "      <td>1</td>\n",
       "      <td>999</td>\n",
       "      <td>0</td>\n",
       "      <td>nonexistent</td>\n",
       "      <td>1.1</td>\n",
       "      <td>93.994</td>\n",
       "      <td>-36.4</td>\n",
       "      <td>4.857</td>\n",
       "      <td>5191.0</td>\n",
       "      <td>no</td>\n",
       "    </tr>\n",
       "    <tr>\n",
       "      <th>1</th>\n",
       "      <td>57</td>\n",
       "      <td>services</td>\n",
       "      <td>married</td>\n",
       "      <td>high.school</td>\n",
       "      <td>unknown</td>\n",
       "      <td>no</td>\n",
       "      <td>no</td>\n",
       "      <td>telephone</td>\n",
       "      <td>may</td>\n",
       "      <td>mon</td>\n",
       "      <td>...</td>\n",
       "      <td>1</td>\n",
       "      <td>999</td>\n",
       "      <td>0</td>\n",
       "      <td>nonexistent</td>\n",
       "      <td>1.1</td>\n",
       "      <td>93.994</td>\n",
       "      <td>-36.4</td>\n",
       "      <td>4.857</td>\n",
       "      <td>5191.0</td>\n",
       "      <td>no</td>\n",
       "    </tr>\n",
       "    <tr>\n",
       "      <th>2</th>\n",
       "      <td>37</td>\n",
       "      <td>services</td>\n",
       "      <td>married</td>\n",
       "      <td>high.school</td>\n",
       "      <td>no</td>\n",
       "      <td>yes</td>\n",
       "      <td>no</td>\n",
       "      <td>telephone</td>\n",
       "      <td>may</td>\n",
       "      <td>mon</td>\n",
       "      <td>...</td>\n",
       "      <td>1</td>\n",
       "      <td>999</td>\n",
       "      <td>0</td>\n",
       "      <td>nonexistent</td>\n",
       "      <td>1.1</td>\n",
       "      <td>93.994</td>\n",
       "      <td>-36.4</td>\n",
       "      <td>4.857</td>\n",
       "      <td>5191.0</td>\n",
       "      <td>no</td>\n",
       "    </tr>\n",
       "    <tr>\n",
       "      <th>3</th>\n",
       "      <td>40</td>\n",
       "      <td>admin.</td>\n",
       "      <td>married</td>\n",
       "      <td>basic.6y</td>\n",
       "      <td>no</td>\n",
       "      <td>no</td>\n",
       "      <td>no</td>\n",
       "      <td>telephone</td>\n",
       "      <td>may</td>\n",
       "      <td>mon</td>\n",
       "      <td>...</td>\n",
       "      <td>1</td>\n",
       "      <td>999</td>\n",
       "      <td>0</td>\n",
       "      <td>nonexistent</td>\n",
       "      <td>1.1</td>\n",
       "      <td>93.994</td>\n",
       "      <td>-36.4</td>\n",
       "      <td>4.857</td>\n",
       "      <td>5191.0</td>\n",
       "      <td>no</td>\n",
       "    </tr>\n",
       "    <tr>\n",
       "      <th>4</th>\n",
       "      <td>56</td>\n",
       "      <td>services</td>\n",
       "      <td>married</td>\n",
       "      <td>high.school</td>\n",
       "      <td>no</td>\n",
       "      <td>no</td>\n",
       "      <td>yes</td>\n",
       "      <td>telephone</td>\n",
       "      <td>may</td>\n",
       "      <td>mon</td>\n",
       "      <td>...</td>\n",
       "      <td>1</td>\n",
       "      <td>999</td>\n",
       "      <td>0</td>\n",
       "      <td>nonexistent</td>\n",
       "      <td>1.1</td>\n",
       "      <td>93.994</td>\n",
       "      <td>-36.4</td>\n",
       "      <td>4.857</td>\n",
       "      <td>5191.0</td>\n",
       "      <td>no</td>\n",
       "    </tr>\n",
       "  </tbody>\n",
       "</table>\n",
       "<p>5 rows × 21 columns</p>\n",
       "</div>"
      ],
      "text/plain": [
       "   age        job  marital    education  default housing loan    contact  \\\n",
       "0   56  housemaid  married     basic.4y       no      no   no  telephone   \n",
       "1   57   services  married  high.school  unknown      no   no  telephone   \n",
       "2   37   services  married  high.school       no     yes   no  telephone   \n",
       "3   40     admin.  married     basic.6y       no      no   no  telephone   \n",
       "4   56   services  married  high.school       no      no  yes  telephone   \n",
       "\n",
       "  month day_of_week  ...  campaign  pdays  previous     poutcome emp.var.rate  \\\n",
       "0   may         mon  ...         1    999         0  nonexistent          1.1   \n",
       "1   may         mon  ...         1    999         0  nonexistent          1.1   \n",
       "2   may         mon  ...         1    999         0  nonexistent          1.1   \n",
       "3   may         mon  ...         1    999         0  nonexistent          1.1   \n",
       "4   may         mon  ...         1    999         0  nonexistent          1.1   \n",
       "\n",
       "   cons.price.idx  cons.conf.idx  euribor3m  nr.employed   y  \n",
       "0          93.994          -36.4      4.857       5191.0  no  \n",
       "1          93.994          -36.4      4.857       5191.0  no  \n",
       "2          93.994          -36.4      4.857       5191.0  no  \n",
       "3          93.994          -36.4      4.857       5191.0  no  \n",
       "4          93.994          -36.4      4.857       5191.0  no  \n",
       "\n",
       "[5 rows x 21 columns]"
      ]
     },
     "execution_count": 575,
     "metadata": {},
     "output_type": "execute_result"
    }
   ],
   "source": [
    "df = pd.read_csv(\"../data/bank-additional-full.csv\")\n",
    "df.head()"
   ]
  },
  {
   "cell_type": "code",
   "execution_count": 576,
   "id": "6e81b2df",
   "metadata": {},
   "outputs": [
    {
     "data": {
      "text/plain": [
       "(41188, 21)"
      ]
     },
     "execution_count": 576,
     "metadata": {},
     "output_type": "execute_result"
    }
   ],
   "source": [
    "df.shape"
   ]
  },
  {
   "cell_type": "markdown",
   "id": "ee6c939f",
   "metadata": {},
   "source": [
    "##### There are 41188 records and 21 Features."
   ]
  },
  {
   "cell_type": "code",
   "execution_count": 577,
   "id": "857a8176",
   "metadata": {},
   "outputs": [
    {
     "name": "stdout",
     "output_type": "stream",
     "text": [
      "<class 'pandas.core.frame.DataFrame'>\n",
      "RangeIndex: 41188 entries, 0 to 41187\n",
      "Data columns (total 21 columns):\n",
      " #   Column          Non-Null Count  Dtype  \n",
      "---  ------          --------------  -----  \n",
      " 0   age             41188 non-null  int64  \n",
      " 1   job             41188 non-null  object \n",
      " 2   marital         41188 non-null  object \n",
      " 3   education       41188 non-null  object \n",
      " 4   default         41188 non-null  object \n",
      " 5   housing         41188 non-null  object \n",
      " 6   loan            41188 non-null  object \n",
      " 7   contact         41188 non-null  object \n",
      " 8   month           41188 non-null  object \n",
      " 9   day_of_week     41188 non-null  object \n",
      " 10  duration        41188 non-null  int64  \n",
      " 11  campaign        41188 non-null  int64  \n",
      " 12  pdays           41188 non-null  int64  \n",
      " 13  previous        41188 non-null  int64  \n",
      " 14  poutcome        41188 non-null  object \n",
      " 15  emp.var.rate    41188 non-null  float64\n",
      " 16  cons.price.idx  41188 non-null  float64\n",
      " 17  cons.conf.idx   41188 non-null  float64\n",
      " 18  euribor3m       41188 non-null  float64\n",
      " 19  nr.employed     41188 non-null  float64\n",
      " 20  y               41188 non-null  object \n",
      "dtypes: float64(5), int64(5), object(11)\n",
      "memory usage: 6.6+ MB\n"
     ]
    }
   ],
   "source": [
    "df.info()"
   ]
  },
  {
   "cell_type": "markdown",
   "id": "56e2f188",
   "metadata": {},
   "source": [
    "###### The data types are correct as per the data"
   ]
  },
  {
   "cell_type": "markdown",
   "id": "8a0d4501",
   "metadata": {},
   "source": [
    "###### Lets change the name of the features to more meaningful ones"
   ]
  },
  {
   "cell_type": "code",
   "execution_count": 578,
   "id": "c09b79fc",
   "metadata": {},
   "outputs": [],
   "source": [
    "df.rename(columns={\"y\":\"subscribe\",\"emp.var.rate\":\"emp_var_rate\",\"cons.price.idx\":\"cons_price_idx\",\"cons.conf.idx\":\"cons_conf_idx\",\"nr.employed\":\"nr_employed\"}, inplace=True)"
   ]
  },
  {
   "cell_type": "code",
   "execution_count": 579,
   "id": "a98925ef",
   "metadata": {},
   "outputs": [
    {
     "data": {
      "text/plain": [
       "(Index(['age', 'duration', 'campaign', 'pdays', 'previous', 'emp_var_rate',\n",
       "        'cons_price_idx', 'cons_conf_idx', 'euribor3m', 'nr_employed'],\n",
       "       dtype='object'),\n",
       " Index(['job', 'marital', 'education', 'default', 'housing', 'loan', 'contact',\n",
       "        'month', 'day_of_week', 'poutcome', 'subscribe'],\n",
       "       dtype='object'))"
      ]
     },
     "execution_count": 579,
     "metadata": {},
     "output_type": "execute_result"
    }
   ],
   "source": [
    "df_num = df.select_dtypes(include=[np.number])\n",
    "df_cat = df.select_dtypes(exclude=[np.number])\n",
    "df_num.columns,df_cat.columns"
   ]
  },
  {
   "cell_type": "markdown",
   "id": "4cd96ac5",
   "metadata": {},
   "source": [
    "###### There are 10 numeric columns and 11 Categorical Columns"
   ]
  },
  {
   "cell_type": "code",
   "execution_count": 580,
   "id": "640878c6",
   "metadata": {},
   "outputs": [
    {
     "data": {
      "text/plain": [
       "False"
      ]
     },
     "execution_count": 580,
     "metadata": {},
     "output_type": "execute_result"
    }
   ],
   "source": [
    "df.isnull().values.any()"
   ]
  },
  {
   "cell_type": "code",
   "execution_count": 581,
   "id": "0411ae59",
   "metadata": {},
   "outputs": [
    {
     "data": {
      "text/plain": [
       "age               0\n",
       "job               0\n",
       "marital           0\n",
       "education         0\n",
       "default           0\n",
       "housing           0\n",
       "loan              0\n",
       "contact           0\n",
       "month             0\n",
       "day_of_week       0\n",
       "duration          0\n",
       "campaign          0\n",
       "pdays             0\n",
       "previous          0\n",
       "poutcome          0\n",
       "emp_var_rate      0\n",
       "cons_price_idx    0\n",
       "cons_conf_idx     0\n",
       "euribor3m         0\n",
       "nr_employed       0\n",
       "subscribe         0\n",
       "dtype: int64"
      ]
     },
     "execution_count": 581,
     "metadata": {},
     "output_type": "execute_result"
    }
   ],
   "source": [
    "df.isna().sum()"
   ]
  },
  {
   "cell_type": "markdown",
   "id": "96b62f43",
   "metadata": {},
   "source": [
    "###### No missing data found."
   ]
  },
  {
   "cell_type": "code",
   "execution_count": 582,
   "id": "9c782557",
   "metadata": {},
   "outputs": [
    {
     "data": {
      "text/plain": [
       "12"
      ]
     },
     "execution_count": 582,
     "metadata": {},
     "output_type": "execute_result"
    }
   ],
   "source": [
    "df.duplicated().sum()"
   ]
  },
  {
   "cell_type": "markdown",
   "id": "f52326a0",
   "metadata": {},
   "source": [
    "###### 12 duplcate rows found. we will delete them."
   ]
  },
  {
   "cell_type": "code",
   "execution_count": 583,
   "id": "c3502927",
   "metadata": {},
   "outputs": [],
   "source": [
    "df = df.drop_duplicates()"
   ]
  },
  {
   "cell_type": "code",
   "execution_count": 584,
   "id": "c0e4065b",
   "metadata": {},
   "outputs": [
    {
     "data": {
      "text/plain": [
       "0"
      ]
     },
     "execution_count": 584,
     "metadata": {},
     "output_type": "execute_result"
    }
   ],
   "source": [
    "df.duplicated().sum()"
   ]
  },
  {
   "cell_type": "code",
   "execution_count": 585,
   "id": "bf94118a",
   "metadata": {},
   "outputs": [
    {
     "data": {
      "text/plain": [
       "(41176, 21)"
      ]
     },
     "execution_count": 585,
     "metadata": {},
     "output_type": "execute_result"
    }
   ],
   "source": [
    "df.shape"
   ]
  },
  {
   "cell_type": "markdown",
   "id": "dcdfa3a5",
   "metadata": {},
   "source": [
    "###### Lets find the no of unique values in each columns. If the feature has constant value or 1 value then such columns can be dropped as they do add any value in model building."
   ]
  },
  {
   "cell_type": "code",
   "execution_count": 586,
   "id": "a2d530e5",
   "metadata": {},
   "outputs": [
    {
     "name": "stdout",
     "output_type": "stream",
     "text": [
      "age 78\n",
      "job 12\n",
      "marital 4\n",
      "education 8\n",
      "default 3\n",
      "housing 3\n",
      "loan 3\n",
      "contact 2\n",
      "month 10\n",
      "day_of_week 5\n",
      "duration 1544\n",
      "campaign 42\n",
      "pdays 27\n",
      "previous 8\n",
      "poutcome 3\n",
      "emp_var_rate 10\n",
      "cons_price_idx 26\n",
      "cons_conf_idx 26\n",
      "euribor3m 316\n",
      "nr_employed 11\n",
      "subscribe 2\n"
     ]
    }
   ],
   "source": [
    "for column in df.columns:\n",
    "    print(column, df[column].nunique())"
   ]
  },
  {
   "cell_type": "markdown",
   "id": "d667603e",
   "metadata": {},
   "source": []
  },
  {
   "cell_type": "markdown",
   "id": "18aae2f1",
   "metadata": {},
   "source": [
    "### Exploratory Data Analysis\n",
    "We will explore the data to find missing values,find categorical features and their distribution and correlation with other categorical features, find numerical features and their distribution and corelation between other numerical features, correlation between all features and target feature , find outliers"
   ]
  },
  {
   "cell_type": "markdown",
   "id": "7b6257ec",
   "metadata": {},
   "source": [
    "###### Univariate Analysis"
   ]
  },
  {
   "cell_type": "markdown",
   "id": "20bcadba",
   "metadata": {},
   "source": [
    "###### Categorica Data"
   ]
  },
  {
   "cell_type": "code",
   "execution_count": 587,
   "id": "8da04b51",
   "metadata": {
    "scrolled": false
   },
   "outputs": [
    {
     "data": {
      "image/png": "[encoded data removed]",
      "text/plain": [
       "<Figure size 432x288 with 1 Axes>"
      ]
     },
     "metadata": {
      "needs_background": "light"
     },
     "output_type": "display_data"
    },
    {
     "data": {
      "image/png": "[encoded data removed]",
      "text/plain": [
       "<Figure size 432x288 with 1 Axes>"
      ]
     },
     "metadata": {
      "needs_background": "light"
     },
     "output_type": "display_data"
    },
    {
     "data": {
      "image/png": "[encoded data removed]",
      "text/plain": [
       "<Figure size 432x288 with 1 Axes>"
      ]
     },
     "metadata": {
      "needs_background": "light"
     },
     "output_type": "display_data"
    },
    {
     "data": {
      "image/png": "[encoded data removed]",
      "text/plain": [
       "<Figure size 432x288 with 1 Axes>"
      ]
     },
     "metadata": {
      "needs_background": "light"
     },
     "output_type": "display_data"
    },
    {
     "data": {
      "image/png": "[encoded data removed]",
      "text/plain": [
       "<Figure size 432x288 with 1 Axes>"
      ]
     },
     "metadata": {
      "needs_background": "light"
     },
     "output_type": "display_data"
    },
    {
     "data": {
      "image/png": "[encoded data removed]",
      "text/plain": [
       "<Figure size 432x288 with 1 Axes>"
      ]
     },
     "metadata": {
      "needs_background": "light"
     },
     "output_type": "display_data"
    },
    {
     "data": {
      "image/png": "[encoded data removed]",
      "text/plain": [
       "<Figure size 432x288 with 1 Axes>"
      ]
     },
     "metadata": {
      "needs_background": "light"
     },
     "output_type": "display_data"
    },
    {
     "data": {
      "image/png": "[encoded data removed]",
      "text/plain": [
       "<Figure size 432x288 with 1 Axes>"
      ]
     },
     "metadata": {
      "needs_background": "light"
     },
     "output_type": "display_data"
    },
    {
     "data": {
      "image/png": "[encoded data removed]",
      "text/plain": [
       "<Figure size 432x288 with 1 Axes>"
      ]
     },
     "metadata": {
      "needs_background": "light"
     },
     "output_type": "display_data"
    },
    {
     "data": {
      "image/png": "[encoded data removed]",
      "text/plain": [
       "<Figure size 432x288 with 1 Axes>"
      ]
     },
     "metadata": {
      "needs_background": "light"
     },
     "output_type": "display_data"
    },
    {
     "data": {
      "image/png": "[encoded data removed]",
      "text/plain": [
       "<Figure size 432x288 with 1 Axes>"
      ]
     },
     "metadata": {
      "needs_background": "light"
     },
     "output_type": "display_data"
    }
   ],
   "source": [
    "#Bar plots of categorical features\n",
    "for feature in df_cat.columns:\n",
    "    sns.countplot(y=feature, data=df_cat, order = df_cat[feature].value_counts().index)\n",
    "    plt.show()"
   ]
  },
  {
   "cell_type": "code",
   "execution_count": 588,
   "id": "b64e62c9",
   "metadata": {},
   "outputs": [
    {
     "data": {
      "text/plain": [
       "admin.           0.253036\n",
       "blue-collar      0.224718\n",
       "technician       0.163663\n",
       "services         0.096343\n",
       "management       0.071012\n",
       "retired          0.041723\n",
       "entrepreneur     0.035360\n",
       "self-employed    0.034510\n",
       "housemaid        0.025743\n",
       "unemployed       0.024626\n",
       "student          0.021250\n",
       "unknown          0.008014\n",
       "Name: job, dtype: float64"
      ]
     },
     "execution_count": 588,
     "metadata": {},
     "output_type": "execute_result"
    }
   ],
   "source": [
    "df.job.value_counts()/df.job.count()"
   ]
  },
  {
   "cell_type": "markdown",
   "id": "a31d7d0b",
   "metadata": {},
   "source": [
    "###### The most of the clients are working in admin 25% and blue collar 22% job category."
   ]
  },
  {
   "cell_type": "code",
   "execution_count": 589,
   "id": "e7234851",
   "metadata": {},
   "outputs": [
    {
     "data": {
      "text/plain": [
       "married     0.605231\n",
       "single      0.280843\n",
       "divorced    0.111983\n",
       "unknown     0.001943\n",
       "Name: marital, dtype: float64"
      ]
     },
     "execution_count": 589,
     "metadata": {},
     "output_type": "execute_result"
    }
   ],
   "source": [
    "df.marital.value_counts()/df.marital.count()"
   ]
  },
  {
   "cell_type": "markdown",
   "id": "18ab0d43",
   "metadata": {},
   "source": [
    "###### 60% of the clients are married."
   ]
  },
  {
   "cell_type": "code",
   "execution_count": 590,
   "id": "78053ebd",
   "metadata": {},
   "outputs": [
    {
     "data": {
      "text/plain": [
       "university.degree      0.295415\n",
       "high.school            0.231008\n",
       "basic.9y               0.146809\n",
       "professional.course    0.127259\n",
       "basic.4y               0.101418\n",
       "basic.6y               0.055639\n",
       "unknown                0.042015\n",
       "illiterate             0.000437\n",
       "Name: education, dtype: float64"
      ]
     },
     "execution_count": 590,
     "metadata": {},
     "output_type": "execute_result"
    }
   ],
   "source": [
    "df.education.value_counts()/df.education.count()"
   ]
  },
  {
   "cell_type": "markdown",
   "id": "bd188153",
   "metadata": {},
   "source": [
    "###### Most of the clients 29% hold University degree."
   ]
  },
  {
   "cell_type": "code",
   "execution_count": 591,
   "id": "4f25fe9c",
   "metadata": {},
   "outputs": [
    {
     "data": {
      "text/plain": [
       "no         0.791165\n",
       "unknown    0.208762\n",
       "yes        0.000073\n",
       "Name: default, dtype: float64"
      ]
     },
     "execution_count": 591,
     "metadata": {},
     "output_type": "execute_result"
    }
   ],
   "source": [
    "df.default.value_counts()/df.default.count()"
   ]
  },
  {
   "cell_type": "markdown",
   "id": "4eaf7385",
   "metadata": {},
   "source": [
    "###### The no of clients who defaulted on a credit, are very less. It shows 80% data for 'No'. % of yes is almost 0. so this feature doesn’t seem to be very for prediction purposes and can be dropped from the dataset."
   ]
  },
  {
   "cell_type": "code",
   "execution_count": 592,
   "id": "1eb2f6e5",
   "metadata": {},
   "outputs": [
    {
     "data": {
      "text/plain": [
       "yes        0.523873\n",
       "no         0.452084\n",
       "unknown    0.024043\n",
       "Name: housing, dtype: float64"
      ]
     },
     "execution_count": 592,
     "metadata": {},
     "output_type": "execute_result"
    }
   ],
   "source": [
    "df.housing.value_counts()/df.housing.count()"
   ]
  },
  {
   "cell_type": "markdown",
   "id": "3b6ead91",
   "metadata": {},
   "source": [
    "###### Housing Shows almost equal % of yes and no."
   ]
  },
  {
   "cell_type": "code",
   "execution_count": 593,
   "id": "84ad49d2",
   "metadata": {},
   "outputs": [
    {
     "data": {
      "text/plain": [
       "no         0.824218\n",
       "yes        0.151739\n",
       "unknown    0.024043\n",
       "Name: loan, dtype: float64"
      ]
     },
     "execution_count": 593,
     "metadata": {},
     "output_type": "execute_result"
    }
   ],
   "source": [
    "df.loan.value_counts()/df.loan.count()"
   ]
  },
  {
   "cell_type": "markdown",
   "id": "f4f31dc6",
   "metadata": {},
   "source": [
    "###### Most of the clients do not have personal loan."
   ]
  },
  {
   "cell_type": "code",
   "execution_count": 594,
   "id": "86152dbc",
   "metadata": {},
   "outputs": [
    {
     "data": {
      "text/plain": [
       "cellular     0.634714\n",
       "telephone    0.365286\n",
       "Name: contact, dtype: float64"
      ]
     },
     "execution_count": 594,
     "metadata": {},
     "output_type": "execute_result"
    }
   ],
   "source": [
    "df.contact.value_counts()/df.contact.count()"
   ]
  },
  {
   "cell_type": "markdown",
   "id": "62d96c9a",
   "metadata": {},
   "source": [
    "###### More than 63% of all clients were contacted through cellular phone."
   ]
  },
  {
   "cell_type": "code",
   "execution_count": 595,
   "id": "273274c9",
   "metadata": {},
   "outputs": [
    {
     "data": {
      "text/plain": [
       "may    0.334345\n",
       "jul    0.174106\n",
       "aug    0.149990\n",
       "jun    0.129153\n",
       "nov    0.099573\n",
       "apr    0.063896\n",
       "oct    0.017413\n",
       "sep    0.013843\n",
       "mar    0.013260\n",
       "dec    0.004420\n",
       "Name: month, dtype: float64"
      ]
     },
     "execution_count": 595,
     "metadata": {},
     "output_type": "execute_result"
    }
   ],
   "source": [
    "df.month.value_counts()/df.month.count()"
   ]
  },
  {
   "cell_type": "markdown",
   "id": "f7c33925",
   "metadata": {},
   "source": [
    "###### Most of the clients were contacted in the month of May 33%."
   ]
  },
  {
   "cell_type": "code",
   "execution_count": 596,
   "id": "7207f8f2",
   "metadata": {},
   "outputs": [
    {
     "data": {
      "text/plain": [
       "thu    0.209297\n",
       "mon    0.206722\n",
       "wed    0.197542\n",
       "tue    0.196377\n",
       "fri    0.190062\n",
       "Name: day_of_week, dtype: float64"
      ]
     },
     "execution_count": 596,
     "metadata": {},
     "output_type": "execute_result"
    }
   ],
   "source": [
    "df.day_of_week.value_counts()/df.day_of_week.count()"
   ]
  },
  {
   "cell_type": "markdown",
   "id": "e4e86f0a",
   "metadata": {},
   "source": [
    "###### Here we see equal distribution of the data in the graph and the % amongst the days. So there is no significant day which shows more activity than others."
   ]
  },
  {
   "cell_type": "code",
   "execution_count": 597,
   "id": "6b345c0c",
   "metadata": {},
   "outputs": [
    {
     "data": {
      "text/plain": [
       "nonexistent    0.863391\n",
       "failure        0.103264\n",
       "success        0.033345\n",
       "Name: poutcome, dtype: float64"
      ]
     },
     "execution_count": 597,
     "metadata": {},
     "output_type": "execute_result"
    }
   ],
   "source": [
    "df.poutcome.value_counts()/df.poutcome.count()"
   ]
  },
  {
   "cell_type": "markdown",
   "id": "b79aba69",
   "metadata": {},
   "source": [
    "###### More than 86% of cliets were never covered by previous marketing campaigns. "
   ]
  },
  {
   "cell_type": "code",
   "execution_count": 598,
   "id": "0a7d157e",
   "metadata": {},
   "outputs": [
    {
     "data": {
      "text/plain": [
       "no     0.887337\n",
       "yes    0.112663\n",
       "Name: subscribe, dtype: float64"
      ]
     },
     "execution_count": 598,
     "metadata": {},
     "output_type": "execute_result"
    }
   ],
   "source": [
    "df.subscribe.value_counts()/df.subscribe.count()"
   ]
  },
  {
   "cell_type": "code",
   "execution_count": 599,
   "id": "7be72b30",
   "metadata": {},
   "outputs": [
    {
     "data": {
      "text/plain": [
       "<matplotlib.legend.Legend at 0x2dd5bf2dd30>"
      ]
     },
     "execution_count": 599,
     "metadata": {},
     "output_type": "execute_result"
    },
    {
     "data": {
      "image/png": "[encoded data removed]",
      "text/plain": [
       "<Figure size 360x360 with 1 Axes>"
      ]
     },
     "metadata": {},
     "output_type": "display_data"
    }
   ],
   "source": [
    "tgt_labels = df['subscribe'].unique()\n",
    "tgt_values = df['subscribe'].value_counts()\n",
    "plt.figure(figsize=(5,5))\n",
    "plt.pie(tgt_values, labels=tgt_labels, autopct='%1.2f%%')\n",
    "plt.legend(loc = 'upper right')"
   ]
  },
  {
   "cell_type": "markdown",
   "id": "c4c37696",
   "metadata": {},
   "source": [
    "###### We see there is imbalance in data. only 11.70% clients have subscribed to a term deposit."
   ]
  },
  {
   "cell_type": "markdown",
   "id": "f87960cc",
   "metadata": {},
   "source": [
    "###### Numerical Data"
   ]
  },
  {
   "cell_type": "code",
   "execution_count": 600,
   "id": "faf496e0",
   "metadata": {},
   "outputs": [
    {
     "data": {
      "image/png": "[encoded data removed]",
      "text/plain": [
       "<Figure size 720x720 with 12 Axes>"
      ]
     },
     "metadata": {
      "needs_background": "light"
     },
     "output_type": "display_data"
    }
   ],
   "source": [
    "#histograms for numeric variable in df\n",
    "hist = df.hist(bins=10,figsize =(10,10))"
   ]
  },
  {
   "cell_type": "code",
   "execution_count": 601,
   "id": "70e751d1",
   "metadata": {},
   "outputs": [
    {
     "data": {
      "text/html": [
       "<div>\n",
       "<style scoped>\n",
       "    .dataframe tbody tr th:only-of-type {\n",
       "        vertical-align: middle;\n",
       "    }\n",
       "\n",
       "    .dataframe tbody tr th {\n",
       "        vertical-align: top;\n",
       "    }\n",
       "\n",
       "    .dataframe thead th {\n",
       "        text-align: right;\n",
       "    }\n",
       "</style>\n",
       "<table border=\"1\" class=\"dataframe\">\n",
       "  <thead>\n",
       "    <tr style=\"text-align: right;\">\n",
       "      <th></th>\n",
       "      <th>count</th>\n",
       "      <th>mean</th>\n",
       "      <th>std</th>\n",
       "      <th>min</th>\n",
       "      <th>25%</th>\n",
       "      <th>50%</th>\n",
       "      <th>75%</th>\n",
       "      <th>max</th>\n",
       "    </tr>\n",
       "  </thead>\n",
       "  <tbody>\n",
       "    <tr>\n",
       "      <th>age</th>\n",
       "      <td>41176.0</td>\n",
       "      <td>40.023800</td>\n",
       "      <td>10.420680</td>\n",
       "      <td>17.000</td>\n",
       "      <td>32.000</td>\n",
       "      <td>38.000</td>\n",
       "      <td>47.000</td>\n",
       "      <td>98.000</td>\n",
       "    </tr>\n",
       "    <tr>\n",
       "      <th>duration</th>\n",
       "      <td>41176.0</td>\n",
       "      <td>258.315815</td>\n",
       "      <td>259.305321</td>\n",
       "      <td>0.000</td>\n",
       "      <td>102.000</td>\n",
       "      <td>180.000</td>\n",
       "      <td>319.000</td>\n",
       "      <td>4918.000</td>\n",
       "    </tr>\n",
       "    <tr>\n",
       "      <th>campaign</th>\n",
       "      <td>41176.0</td>\n",
       "      <td>2.567879</td>\n",
       "      <td>2.770318</td>\n",
       "      <td>1.000</td>\n",
       "      <td>1.000</td>\n",
       "      <td>2.000</td>\n",
       "      <td>3.000</td>\n",
       "      <td>56.000</td>\n",
       "    </tr>\n",
       "    <tr>\n",
       "      <th>pdays</th>\n",
       "      <td>41176.0</td>\n",
       "      <td>962.464810</td>\n",
       "      <td>186.937102</td>\n",
       "      <td>0.000</td>\n",
       "      <td>999.000</td>\n",
       "      <td>999.000</td>\n",
       "      <td>999.000</td>\n",
       "      <td>999.000</td>\n",
       "    </tr>\n",
       "    <tr>\n",
       "      <th>previous</th>\n",
       "      <td>41176.0</td>\n",
       "      <td>0.173013</td>\n",
       "      <td>0.494964</td>\n",
       "      <td>0.000</td>\n",
       "      <td>0.000</td>\n",
       "      <td>0.000</td>\n",
       "      <td>0.000</td>\n",
       "      <td>7.000</td>\n",
       "    </tr>\n",
       "    <tr>\n",
       "      <th>emp_var_rate</th>\n",
       "      <td>41176.0</td>\n",
       "      <td>0.081922</td>\n",
       "      <td>1.570883</td>\n",
       "      <td>-3.400</td>\n",
       "      <td>-1.800</td>\n",
       "      <td>1.100</td>\n",
       "      <td>1.400</td>\n",
       "      <td>1.400</td>\n",
       "    </tr>\n",
       "    <tr>\n",
       "      <th>cons_price_idx</th>\n",
       "      <td>41176.0</td>\n",
       "      <td>93.575720</td>\n",
       "      <td>0.578839</td>\n",
       "      <td>92.201</td>\n",
       "      <td>93.075</td>\n",
       "      <td>93.749</td>\n",
       "      <td>93.994</td>\n",
       "      <td>94.767</td>\n",
       "    </tr>\n",
       "    <tr>\n",
       "      <th>cons_conf_idx</th>\n",
       "      <td>41176.0</td>\n",
       "      <td>-40.502863</td>\n",
       "      <td>4.627860</td>\n",
       "      <td>-50.800</td>\n",
       "      <td>-42.700</td>\n",
       "      <td>-41.800</td>\n",
       "      <td>-36.400</td>\n",
       "      <td>-26.900</td>\n",
       "    </tr>\n",
       "    <tr>\n",
       "      <th>euribor3m</th>\n",
       "      <td>41176.0</td>\n",
       "      <td>3.621293</td>\n",
       "      <td>1.734437</td>\n",
       "      <td>0.634</td>\n",
       "      <td>1.344</td>\n",
       "      <td>4.857</td>\n",
       "      <td>4.961</td>\n",
       "      <td>5.045</td>\n",
       "    </tr>\n",
       "    <tr>\n",
       "      <th>nr_employed</th>\n",
       "      <td>41176.0</td>\n",
       "      <td>5167.034870</td>\n",
       "      <td>72.251364</td>\n",
       "      <td>4963.600</td>\n",
       "      <td>5099.100</td>\n",
       "      <td>5191.000</td>\n",
       "      <td>5228.100</td>\n",
       "      <td>5228.100</td>\n",
       "    </tr>\n",
       "  </tbody>\n",
       "</table>\n",
       "</div>"
      ],
      "text/plain": [
       "                  count         mean         std       min       25%  \\\n",
       "age             41176.0    40.023800   10.420680    17.000    32.000   \n",
       "duration        41176.0   258.315815  259.305321     0.000   102.000   \n",
       "campaign        41176.0     2.567879    2.770318     1.000     1.000   \n",
       "pdays           41176.0   962.464810  186.937102     0.000   999.000   \n",
       "previous        41176.0     0.173013    0.494964     0.000     0.000   \n",
       "emp_var_rate    41176.0     0.081922    1.570883    -3.400    -1.800   \n",
       "cons_price_idx  41176.0    93.575720    0.578839    92.201    93.075   \n",
       "cons_conf_idx   41176.0   -40.502863    4.627860   -50.800   -42.700   \n",
       "euribor3m       41176.0     3.621293    1.734437     0.634     1.344   \n",
       "nr_employed     41176.0  5167.034870   72.251364  4963.600  5099.100   \n",
       "\n",
       "                     50%       75%       max  \n",
       "age               38.000    47.000    98.000  \n",
       "duration         180.000   319.000  4918.000  \n",
       "campaign           2.000     3.000    56.000  \n",
       "pdays            999.000   999.000   999.000  \n",
       "previous           0.000     0.000     7.000  \n",
       "emp_var_rate       1.100     1.400     1.400  \n",
       "cons_price_idx    93.749    93.994    94.767  \n",
       "cons_conf_idx    -41.800   -36.400   -26.900  \n",
       "euribor3m          4.857     4.961     5.045  \n",
       "nr_employed     5191.000  5228.100  5228.100  "
      ]
     },
     "execution_count": 601,
     "metadata": {},
     "output_type": "execute_result"
    }
   ],
   "source": [
    "df.describe().T"
   ]
  },
  {
   "cell_type": "code",
   "execution_count": 602,
   "id": "b58e4089",
   "metadata": {},
   "outputs": [
    {
     "name": "stdout",
     "output_type": "stream",
     "text": [
      "<class 'pandas.core.frame.DataFrame'>\n",
      "RangeIndex: 41188 entries, 0 to 41187\n",
      "Data columns (total 10 columns):\n",
      " #   Column          Non-Null Count  Dtype  \n",
      "---  ------          --------------  -----  \n",
      " 0   age             41188 non-null  int64  \n",
      " 1   duration        41188 non-null  int64  \n",
      " 2   campaign        41188 non-null  int64  \n",
      " 3   pdays           41188 non-null  int64  \n",
      " 4   previous        41188 non-null  int64  \n",
      " 5   emp_var_rate    41188 non-null  float64\n",
      " 6   cons_price_idx  41188 non-null  float64\n",
      " 7   cons_conf_idx   41188 non-null  float64\n",
      " 8   euribor3m       41188 non-null  float64\n",
      " 9   nr_employed     41188 non-null  float64\n",
      "dtypes: float64(5), int64(5)\n",
      "memory usage: 3.1 MB\n"
     ]
    }
   ],
   "source": [
    "df_num.info()"
   ]
  },
  {
   "cell_type": "code",
   "execution_count": 603,
   "id": "ed8de4b9",
   "metadata": {},
   "outputs": [],
   "source": [
    "import warnings\n",
    "warnings.filterwarnings('ignore')"
   ]
  },
  {
   "cell_type": "code",
   "execution_count": 604,
   "id": "8fbcc325",
   "metadata": {},
   "outputs": [
    {
     "data": {
      "image/png": "[encoded data removed]",
      "text/plain": [
       "<Figure size 1440x4320 with 10 Axes>"
      ]
     },
     "metadata": {
      "needs_background": "light"
     },
     "output_type": "display_data"
    }
   ],
   "source": [
    "plt.figure(figsize=(20,60))\n",
    "plotnumber=1\n",
    "for column in df_num.columns:\n",
    "    ax= plt.subplot(12,3, plotnumber)\n",
    "    sns.distplot(df_num[column])\n",
    "    plt.xlabel(column)\n",
    "    plotnumber += 1\n",
    "plt.show()"
   ]
  },
  {
   "cell_type": "markdown",
   "id": "d7868950",
   "metadata": {},
   "source": [
    "- The graph of age shows normal distribution.\n",
    "- The graph of pdays, previous, duration, campaign shows skewness. \n",
    "pdays: number of days that passed by after the client was last contacted from a previous campaign (numeric; 999 means client was not previously contacted).\n",
    "- The variable “duration” will need to be dropped before we start building a predictive model because it highly affects the output target (e.g., if duration=0 then y=”no”). Yet, the duration is not known before a call is performed.\n",
    "- Other graphs shows servral spikes in the data."
   ]
  },
  {
   "cell_type": "markdown",
   "id": "12abae5b",
   "metadata": {},
   "source": [
    "### Bivariate Analysis"
   ]
  },
  {
   "cell_type": "markdown",
   "id": "e4b08260",
   "metadata": {},
   "source": [
    "#### Relation between Categorical features and target variable"
   ]
  },
  {
   "cell_type": "code",
   "execution_count": 605,
   "id": "0f958bf7",
   "metadata": {
    "scrolled": false
   },
   "outputs": [
    {
     "data": {
      "image/png": "[encoded data removed]",
      "text/plain": [
       "<Figure size 1080x3240 with 11 Axes>"
      ]
     },
     "metadata": {
      "needs_background": "light"
     },
     "output_type": "display_data"
    }
   ],
   "source": [
    "fig, ax = plt.subplots(len(df_cat.columns),  figsize = (15, 45), constrained_layout = True)\n",
    "for i, var in enumerate(df_cat.columns): \n",
    "    sns.countplot(data = df, x = var, hue = 'subscribe', ax = ax[i], linewidth = 1.5)\n",
    "    ax[i].set_ylabel(var)\n",
    "    ax[i].set_xlabel(None)"
   ]
  },
  {
   "cell_type": "markdown",
   "id": "81549693",
   "metadata": {},
   "source": [
    "- The clients having housing, loan have higher % or saying no to term deposit.\n",
    "- The retired people seem to have higher % of 'Yes' for term deposit than other job category clients.\n",
    "- The months may, jun, juy, aug shows more clients responding to term deposit\n",
    "- if poutcome = success then the % of 'yes' to term deposit is high\n",
    "- % of interest in 'Deposit'is more when clients are contacted via cellular mode.\n",
    "- The % of clients showing interest in 'term deposit' is more when they are married, holds university degree and no defaulted to credit."
   ]
  },
  {
   "cell_type": "markdown",
   "id": "1ce35035",
   "metadata": {},
   "source": [
    "#### Relation between Numerical features and target variable"
   ]
  },
  {
   "cell_type": "code",
   "execution_count": 606,
   "id": "f82dec0a",
   "metadata": {
    "scrolled": false
   },
   "outputs": [
    {
     "data": {
      "image/png": "[encoded data removed]",
      "text/plain": [
       "<Figure size 1440x4320 with 10 Axes>"
      ]
     },
     "metadata": {
      "needs_background": "light"
     },
     "output_type": "display_data"
    }
   ],
   "source": [
    "plt.figure(figsize=(20,60))\n",
    "plotnumber=1\n",
    "for column in df_num.columns:\n",
    "    ax= plt.subplot(12,3, plotnumber)\n",
    "    sns.boxplot(x='subscribe', y=df[column], data=df)\n",
    "    plt.xlabel(column)\n",
    "    plotnumber += 1\n",
    "plt.show()\n"
   ]
  },
  {
   "cell_type": "markdown",
   "id": "c136fd59",
   "metadata": {},
   "source": [
    "Clients having longer durations shows more interest in term deposit"
   ]
  },
  {
   "cell_type": "markdown",
   "id": "2c2026f6",
   "metadata": {},
   "source": [
    "#### Finding Outliers"
   ]
  },
  {
   "cell_type": "code",
   "execution_count": 607,
   "id": "697719ba",
   "metadata": {},
   "outputs": [
    {
     "data": {
      "image/png": "[encoded data removed]",
      "text/plain": [
       "<Figure size 1440x4320 with 10 Axes>"
      ]
     },
     "metadata": {
      "needs_background": "light"
     },
     "output_type": "display_data"
    }
   ],
   "source": [
    "plt.figure(figsize=(20,60))\n",
    "plotnumber=1\n",
    "for column in df_num.columns:\n",
    "    ax= plt.subplot(12,3, plotnumber)\n",
    "    sns.boxplot(df[column])\n",
    "    plt.xlabel(column)\n",
    "    plotnumber += 1\n",
    "plt.show()\n"
   ]
  },
  {
   "cell_type": "markdown",
   "id": "df651ebe",
   "metadata": {},
   "source": [
    "The features like age, pdays, duration, campaign, duration has some outliers"
   ]
  },
  {
   "cell_type": "markdown",
   "id": "bc420710",
   "metadata": {},
   "source": [
    "#### Multivariate analysis"
   ]
  },
  {
   "cell_type": "code",
   "execution_count": 608,
   "id": "3e95ca1e",
   "metadata": {},
   "outputs": [
    {
     "data": {
      "image/png": "[encoded data removed]",
      "text/plain": [
       "<Figure size 2160x2160 with 2 Axes>"
      ]
     },
     "metadata": {
      "needs_background": "light"
     },
     "output_type": "display_data"
    }
   ],
   "source": [
    "### create the correlation matrix heat map\n",
    "plt.figure(figsize=(30,30))\n",
    "sns.heatmap(df.corr(),linewidths=.1,cmap=\"YlGnBu\", annot=True)\n",
    "plt.yticks(rotation=0);"
   ]
  },
  {
   "cell_type": "markdown",
   "id": "a60b17a1",
   "metadata": {},
   "source": [
    "###### as we see in above graph , euribor3m is highly corelated with 'emp_var_rate' and nr_employed. so we can drop 'emp_var_rate' and nr_employed as they will only add redundancy and overfitting."
   ]
  },
  {
   "cell_type": "markdown",
   "id": "4ce305f4",
   "metadata": {},
   "source": [
    "### Feature Engineering"
   ]
  },
  {
   "cell_type": "markdown",
   "id": "3c31ddf7",
   "metadata": {},
   "source": [
    "We will drop the unwanted features , handle missing data, remove outliers"
   ]
  },
  {
   "cell_type": "code",
   "execution_count": 609,
   "id": "1c313280",
   "metadata": {},
   "outputs": [],
   "source": [
    "df2 = df.copy()"
   ]
  },
  {
   "cell_type": "markdown",
   "id": "4a160042",
   "metadata": {},
   "source": [
    "#### As per the analysis we did in EDA, lets drop below features"
   ]
  },
  {
   "cell_type": "code",
   "execution_count": 610,
   "id": "6af9a908",
   "metadata": {},
   "outputs": [],
   "source": [
    "df2=df2.drop('emp_var_rate',axis=1)\n",
    "df2=df2.drop('nr_employed',axis=1)\n",
    "df2=df2.drop('default',axis=1)"
   ]
  },
  {
   "cell_type": "markdown",
   "id": "e0ef1772",
   "metadata": {},
   "source": [
    "###### The pdays column contains most of the data as 999. \n",
    "pdays: number of days that passed by after the client was last contacted from a previous campaign \n",
    "(numeric; 999 means client was not previously contacted)\n",
    "lets find how many values are with 999"
   ]
  },
  {
   "cell_type": "code",
   "execution_count": 611,
   "id": "d34598b3",
   "metadata": {},
   "outputs": [
    {
     "data": {
      "text/plain": [
       "999    0.963207\n",
       "3      0.010662\n",
       "6      0.010006\n",
       "4      0.002866\n",
       "9      0.001554\n",
       "2      0.001481\n",
       "7      0.001457\n",
       "12     0.001409\n",
       "10     0.001263\n",
       "5      0.001117\n",
       "13     0.000874\n",
       "11     0.000680\n",
       "1      0.000631\n",
       "15     0.000583\n",
       "14     0.000486\n",
       "8      0.000437\n",
       "0      0.000364\n",
       "16     0.000267\n",
       "17     0.000194\n",
       "18     0.000170\n",
       "22     0.000073\n",
       "19     0.000073\n",
       "21     0.000049\n",
       "25     0.000024\n",
       "26     0.000024\n",
       "27     0.000024\n",
       "20     0.000024\n",
       "Name: pdays, dtype: float64"
      ]
     },
     "execution_count": 611,
     "metadata": {},
     "output_type": "execute_result"
    }
   ],
   "source": [
    "df2['pdays'].value_counts(normalize=True)"
   ]
  },
  {
   "cell_type": "markdown",
   "id": "ff711727",
   "metadata": {},
   "source": [
    "###### As it shows above 96% values are having 999 value. so we will remove this column."
   ]
  },
  {
   "cell_type": "code",
   "execution_count": 612,
   "id": "fdb96d92",
   "metadata": {},
   "outputs": [],
   "source": [
    "df2=df2.drop('pdays',axis=1)"
   ]
  },
  {
   "cell_type": "code",
   "execution_count": 613,
   "id": "ae251f12",
   "metadata": {},
   "outputs": [
    {
     "data": {
      "text/plain": [
       "1     0.428259\n",
       "2     0.256654\n",
       "3     0.129687\n",
       "4     0.064358\n",
       "5     0.038833\n",
       "6     0.023776\n",
       "7     0.015276\n",
       "8     0.009714\n",
       "9     0.006873\n",
       "10    0.005464\n",
       "11    0.004299\n",
       "12    0.003036\n",
       "13    0.002234\n",
       "14    0.001676\n",
       "17    0.001409\n",
       "16    0.001239\n",
       "15    0.001239\n",
       "18    0.000801\n",
       "20    0.000729\n",
       "19    0.000631\n",
       "21    0.000583\n",
       "22    0.000413\n",
       "23    0.000389\n",
       "24    0.000364\n",
       "27    0.000267\n",
       "29    0.000243\n",
       "28    0.000194\n",
       "26    0.000194\n",
       "25    0.000194\n",
       "31    0.000170\n",
       "30    0.000170\n",
       "35    0.000121\n",
       "32    0.000097\n",
       "33    0.000097\n",
       "34    0.000073\n",
       "42    0.000049\n",
       "40    0.000049\n",
       "43    0.000049\n",
       "56    0.000024\n",
       "39    0.000024\n",
       "41    0.000024\n",
       "37    0.000024\n",
       "Name: campaign, dtype: float64"
      ]
     },
     "execution_count": 613,
     "metadata": {},
     "output_type": "execute_result"
    }
   ],
   "source": [
    "df2['campaign'].value_counts(normalize=True)"
   ]
  },
  {
   "cell_type": "code",
   "execution_count": 614,
   "id": "3313c9b7",
   "metadata": {},
   "outputs": [],
   "source": [
    "df2 = df2[df2['campaign'] < 33]"
   ]
  },
  {
   "cell_type": "code",
   "execution_count": 615,
   "id": "236666cf",
   "metadata": {},
   "outputs": [
    {
     "data": {
      "text/plain": [
       "0    0.863391\n",
       "1    0.110768\n",
       "2    0.018312\n",
       "3    0.005246\n",
       "4    0.001700\n",
       "5    0.000437\n",
       "6    0.000121\n",
       "7    0.000024\n",
       "Name: previous, dtype: float64"
      ]
     },
     "execution_count": 615,
     "metadata": {},
     "output_type": "execute_result"
    }
   ],
   "source": [
    "df['previous'].value_counts(normalize=True)"
   ]
  },
  {
   "cell_type": "code",
   "execution_count": 616,
   "id": "cf0f8ece",
   "metadata": {},
   "outputs": [
    {
     "data": {
      "text/plain": [
       "(41154, 17)"
      ]
     },
     "execution_count": 616,
     "metadata": {},
     "output_type": "execute_result"
    }
   ],
   "source": [
    "df2.shape"
   ]
  },
  {
   "cell_type": "code",
   "execution_count": 617,
   "id": "92d29b9f",
   "metadata": {},
   "outputs": [],
   "source": [
    "df2=df2[df2['age']<np.nanpercentile(df2['age'], 99)]\n",
    "df2=df2[df2['duration']<np.nanpercentile(df2['duration'], 99)]\n",
    "df2=df2[df2['cons_conf_idx']<np.nanpercentile(df2['cons_conf_idx'], 99)]\n",
    "df2=df2[df2['campaign']<np.nanpercentile(df2['campaign'], 99)]"
   ]
  },
  {
   "cell_type": "code",
   "execution_count": 618,
   "id": "66d74cbd",
   "metadata": {},
   "outputs": [],
   "source": [
    "df2_num = df2.select_dtypes(include=[np.number])\n",
    "df2_cat = df2.select_dtypes(exclude=[np.number])"
   ]
  },
  {
   "cell_type": "code",
   "execution_count": 619,
   "id": "63ac910a",
   "metadata": {},
   "outputs": [
    {
     "data": {
      "image/png": "[encoded data removed]",
      "text/plain": [
       "<Figure size 1440x4320 with 7 Axes>"
      ]
     },
     "metadata": {
      "needs_background": "light"
     },
     "output_type": "display_data"
    }
   ],
   "source": [
    "plt.figure(figsize=(20,60))\n",
    "plotnumber=1\n",
    "for column in df2_num.columns:\n",
    "    ax= plt.subplot(12,3, plotnumber)\n",
    "    sns.boxplot(df2[column])\n",
    "    plt.xlabel(column)\n",
    "    plotnumber += 1\n",
    "plt.show()"
   ]
  },
  {
   "cell_type": "code",
   "execution_count": 620,
   "id": "96f5ab97",
   "metadata": {},
   "outputs": [
    {
     "data": {
      "text/plain": [
       "(39241, 17)"
      ]
     },
     "execution_count": 620,
     "metadata": {},
     "output_type": "execute_result"
    }
   ],
   "source": [
    "df2.shape"
   ]
  },
  {
   "cell_type": "code",
   "execution_count": 621,
   "id": "55492747",
   "metadata": {},
   "outputs": [
    {
     "data": {
      "text/html": [
       "<div>\n",
       "<style scoped>\n",
       "    .dataframe tbody tr th:only-of-type {\n",
       "        vertical-align: middle;\n",
       "    }\n",
       "\n",
       "    .dataframe tbody tr th {\n",
       "        vertical-align: top;\n",
       "    }\n",
       "\n",
       "    .dataframe thead th {\n",
       "        text-align: right;\n",
       "    }\n",
       "</style>\n",
       "<table border=\"1\" class=\"dataframe\">\n",
       "  <thead>\n",
       "    <tr style=\"text-align: right;\">\n",
       "      <th></th>\n",
       "      <th>age</th>\n",
       "      <th>job</th>\n",
       "      <th>marital</th>\n",
       "      <th>education</th>\n",
       "      <th>housing</th>\n",
       "      <th>loan</th>\n",
       "      <th>contact</th>\n",
       "      <th>month</th>\n",
       "      <th>day_of_week</th>\n",
       "      <th>duration</th>\n",
       "      <th>campaign</th>\n",
       "      <th>previous</th>\n",
       "      <th>poutcome</th>\n",
       "      <th>cons_price_idx</th>\n",
       "      <th>cons_conf_idx</th>\n",
       "      <th>euribor3m</th>\n",
       "      <th>subscribe</th>\n",
       "    </tr>\n",
       "  </thead>\n",
       "  <tbody>\n",
       "    <tr>\n",
       "      <th>0</th>\n",
       "      <td>56</td>\n",
       "      <td>housemaid</td>\n",
       "      <td>married</td>\n",
       "      <td>basic.4y</td>\n",
       "      <td>no</td>\n",
       "      <td>no</td>\n",
       "      <td>telephone</td>\n",
       "      <td>may</td>\n",
       "      <td>mon</td>\n",
       "      <td>261</td>\n",
       "      <td>1</td>\n",
       "      <td>0</td>\n",
       "      <td>nonexistent</td>\n",
       "      <td>93.994</td>\n",
       "      <td>-36.4</td>\n",
       "      <td>4.857</td>\n",
       "      <td>no</td>\n",
       "    </tr>\n",
       "    <tr>\n",
       "      <th>1</th>\n",
       "      <td>57</td>\n",
       "      <td>services</td>\n",
       "      <td>married</td>\n",
       "      <td>high.school</td>\n",
       "      <td>no</td>\n",
       "      <td>no</td>\n",
       "      <td>telephone</td>\n",
       "      <td>may</td>\n",
       "      <td>mon</td>\n",
       "      <td>149</td>\n",
       "      <td>1</td>\n",
       "      <td>0</td>\n",
       "      <td>nonexistent</td>\n",
       "      <td>93.994</td>\n",
       "      <td>-36.4</td>\n",
       "      <td>4.857</td>\n",
       "      <td>no</td>\n",
       "    </tr>\n",
       "    <tr>\n",
       "      <th>2</th>\n",
       "      <td>37</td>\n",
       "      <td>services</td>\n",
       "      <td>married</td>\n",
       "      <td>high.school</td>\n",
       "      <td>yes</td>\n",
       "      <td>no</td>\n",
       "      <td>telephone</td>\n",
       "      <td>may</td>\n",
       "      <td>mon</td>\n",
       "      <td>226</td>\n",
       "      <td>1</td>\n",
       "      <td>0</td>\n",
       "      <td>nonexistent</td>\n",
       "      <td>93.994</td>\n",
       "      <td>-36.4</td>\n",
       "      <td>4.857</td>\n",
       "      <td>no</td>\n",
       "    </tr>\n",
       "    <tr>\n",
       "      <th>3</th>\n",
       "      <td>40</td>\n",
       "      <td>admin.</td>\n",
       "      <td>married</td>\n",
       "      <td>basic.6y</td>\n",
       "      <td>no</td>\n",
       "      <td>no</td>\n",
       "      <td>telephone</td>\n",
       "      <td>may</td>\n",
       "      <td>mon</td>\n",
       "      <td>151</td>\n",
       "      <td>1</td>\n",
       "      <td>0</td>\n",
       "      <td>nonexistent</td>\n",
       "      <td>93.994</td>\n",
       "      <td>-36.4</td>\n",
       "      <td>4.857</td>\n",
       "      <td>no</td>\n",
       "    </tr>\n",
       "    <tr>\n",
       "      <th>4</th>\n",
       "      <td>56</td>\n",
       "      <td>services</td>\n",
       "      <td>married</td>\n",
       "      <td>high.school</td>\n",
       "      <td>no</td>\n",
       "      <td>yes</td>\n",
       "      <td>telephone</td>\n",
       "      <td>may</td>\n",
       "      <td>mon</td>\n",
       "      <td>307</td>\n",
       "      <td>1</td>\n",
       "      <td>0</td>\n",
       "      <td>nonexistent</td>\n",
       "      <td>93.994</td>\n",
       "      <td>-36.4</td>\n",
       "      <td>4.857</td>\n",
       "      <td>no</td>\n",
       "    </tr>\n",
       "  </tbody>\n",
       "</table>\n",
       "</div>"
      ],
      "text/plain": [
       "   age        job  marital    education housing loan    contact month  \\\n",
       "0   56  housemaid  married     basic.4y      no   no  telephone   may   \n",
       "1   57   services  married  high.school      no   no  telephone   may   \n",
       "2   37   services  married  high.school     yes   no  telephone   may   \n",
       "3   40     admin.  married     basic.6y      no   no  telephone   may   \n",
       "4   56   services  married  high.school      no  yes  telephone   may   \n",
       "\n",
       "  day_of_week  duration  campaign  previous     poutcome  cons_price_idx  \\\n",
       "0         mon       261         1         0  nonexistent          93.994   \n",
       "1         mon       149         1         0  nonexistent          93.994   \n",
       "2         mon       226         1         0  nonexistent          93.994   \n",
       "3         mon       151         1         0  nonexistent          93.994   \n",
       "4         mon       307         1         0  nonexistent          93.994   \n",
       "\n",
       "   cons_conf_idx  euribor3m subscribe  \n",
       "0          -36.4      4.857        no  \n",
       "1          -36.4      4.857        no  \n",
       "2          -36.4      4.857        no  \n",
       "3          -36.4      4.857        no  \n",
       "4          -36.4      4.857        no  "
      ]
     },
     "execution_count": 621,
     "metadata": {},
     "output_type": "execute_result"
    }
   ],
   "source": [
    "df2.head()"
   ]
  },
  {
   "cell_type": "code",
   "execution_count": 622,
   "id": "9d7eba34",
   "metadata": {},
   "outputs": [
    {
     "data": {
      "text/plain": [
       "age               0\n",
       "job               0\n",
       "marital           0\n",
       "education         0\n",
       "housing           0\n",
       "loan              0\n",
       "contact           0\n",
       "month             0\n",
       "day_of_week       0\n",
       "duration          0\n",
       "campaign          0\n",
       "previous          0\n",
       "poutcome          0\n",
       "cons_price_idx    0\n",
       "cons_conf_idx     0\n",
       "euribor3m         0\n",
       "subscribe         0\n",
       "dtype: int64"
      ]
     },
     "execution_count": 622,
     "metadata": {},
     "output_type": "execute_result"
    }
   ],
   "source": [
    "df2.isna().sum()"
   ]
  },
  {
   "cell_type": "code",
   "execution_count": 623,
   "id": "85e088a1",
   "metadata": {},
   "outputs": [],
   "source": [
    "df2['subscribe'] = df2['subscribe'] .replace(to_replace = \"yes\", value = 1)\n",
    "df2['subscribe']  = df2['subscribe'] .replace(to_replace = \"no\", value = 0)"
   ]
  },
  {
   "cell_type": "code",
   "execution_count": 624,
   "id": "a8ddbc7e",
   "metadata": {},
   "outputs": [
    {
     "data": {
      "text/html": [
       "<div>\n",
       "<style scoped>\n",
       "    .dataframe tbody tr th:only-of-type {\n",
       "        vertical-align: middle;\n",
       "    }\n",
       "\n",
       "    .dataframe tbody tr th {\n",
       "        vertical-align: top;\n",
       "    }\n",
       "\n",
       "    .dataframe thead th {\n",
       "        text-align: right;\n",
       "    }\n",
       "</style>\n",
       "<table border=\"1\" class=\"dataframe\">\n",
       "  <thead>\n",
       "    <tr style=\"text-align: right;\">\n",
       "      <th></th>\n",
       "      <th>count</th>\n",
       "      <th>mean</th>\n",
       "      <th>std</th>\n",
       "      <th>min</th>\n",
       "      <th>25%</th>\n",
       "      <th>50%</th>\n",
       "      <th>75%</th>\n",
       "      <th>max</th>\n",
       "    </tr>\n",
       "  </thead>\n",
       "  <tbody>\n",
       "    <tr>\n",
       "      <th>age</th>\n",
       "      <td>39241.0</td>\n",
       "      <td>39.575750</td>\n",
       "      <td>9.642326</td>\n",
       "      <td>17.000</td>\n",
       "      <td>32.000</td>\n",
       "      <td>38.000</td>\n",
       "      <td>47.000</td>\n",
       "      <td>70.000</td>\n",
       "    </tr>\n",
       "    <tr>\n",
       "      <th>duration</th>\n",
       "      <td>39241.0</td>\n",
       "      <td>245.050687</td>\n",
       "      <td>213.001863</td>\n",
       "      <td>0.000</td>\n",
       "      <td>103.000</td>\n",
       "      <td>178.000</td>\n",
       "      <td>314.000</td>\n",
       "      <td>1271.000</td>\n",
       "    </tr>\n",
       "    <tr>\n",
       "      <th>campaign</th>\n",
       "      <td>39241.0</td>\n",
       "      <td>2.381489</td>\n",
       "      <td>1.960863</td>\n",
       "      <td>1.000</td>\n",
       "      <td>1.000</td>\n",
       "      <td>2.000</td>\n",
       "      <td>3.000</td>\n",
       "      <td>13.000</td>\n",
       "    </tr>\n",
       "    <tr>\n",
       "      <th>previous</th>\n",
       "      <td>39241.0</td>\n",
       "      <td>0.164726</td>\n",
       "      <td>0.481969</td>\n",
       "      <td>0.000</td>\n",
       "      <td>0.000</td>\n",
       "      <td>0.000</td>\n",
       "      <td>0.000</td>\n",
       "      <td>7.000</td>\n",
       "    </tr>\n",
       "    <tr>\n",
       "      <th>cons_price_idx</th>\n",
       "      <td>39241.0</td>\n",
       "      <td>93.593450</td>\n",
       "      <td>0.560230</td>\n",
       "      <td>92.201</td>\n",
       "      <td>93.075</td>\n",
       "      <td>93.876</td>\n",
       "      <td>93.994</td>\n",
       "      <td>94.767</td>\n",
       "    </tr>\n",
       "    <tr>\n",
       "      <th>cons_conf_idx</th>\n",
       "      <td>39241.0</td>\n",
       "      <td>-40.742354</td>\n",
       "      <td>4.339718</td>\n",
       "      <td>-50.800</td>\n",
       "      <td>-42.700</td>\n",
       "      <td>-41.800</td>\n",
       "      <td>-36.400</td>\n",
       "      <td>-30.100</td>\n",
       "    </tr>\n",
       "    <tr>\n",
       "      <th>euribor3m</th>\n",
       "      <td>39241.0</td>\n",
       "      <td>3.680839</td>\n",
       "      <td>1.699342</td>\n",
       "      <td>0.634</td>\n",
       "      <td>1.365</td>\n",
       "      <td>4.857</td>\n",
       "      <td>4.961</td>\n",
       "      <td>5.045</td>\n",
       "    </tr>\n",
       "    <tr>\n",
       "      <th>subscribe</th>\n",
       "      <td>39241.0</td>\n",
       "      <td>0.099845</td>\n",
       "      <td>0.299796</td>\n",
       "      <td>0.000</td>\n",
       "      <td>0.000</td>\n",
       "      <td>0.000</td>\n",
       "      <td>0.000</td>\n",
       "      <td>1.000</td>\n",
       "    </tr>\n",
       "  </tbody>\n",
       "</table>\n",
       "</div>"
      ],
      "text/plain": [
       "                  count        mean         std     min      25%      50%  \\\n",
       "age             39241.0   39.575750    9.642326  17.000   32.000   38.000   \n",
       "duration        39241.0  245.050687  213.001863   0.000  103.000  178.000   \n",
       "campaign        39241.0    2.381489    1.960863   1.000    1.000    2.000   \n",
       "previous        39241.0    0.164726    0.481969   0.000    0.000    0.000   \n",
       "cons_price_idx  39241.0   93.593450    0.560230  92.201   93.075   93.876   \n",
       "cons_conf_idx   39241.0  -40.742354    4.339718 -50.800  -42.700  -41.800   \n",
       "euribor3m       39241.0    3.680839    1.699342   0.634    1.365    4.857   \n",
       "subscribe       39241.0    0.099845    0.299796   0.000    0.000    0.000   \n",
       "\n",
       "                    75%       max  \n",
       "age              47.000    70.000  \n",
       "duration        314.000  1271.000  \n",
       "campaign          3.000    13.000  \n",
       "previous          0.000     7.000  \n",
       "cons_price_idx   93.994    94.767  \n",
       "cons_conf_idx   -36.400   -30.100  \n",
       "euribor3m         4.961     5.045  \n",
       "subscribe         0.000     1.000  "
      ]
     },
     "execution_count": 624,
     "metadata": {},
     "output_type": "execute_result"
    }
   ],
   "source": [
    "df2.describe().T"
   ]
  },
  {
   "cell_type": "code",
   "execution_count": 625,
   "id": "09219854",
   "metadata": {},
   "outputs": [
    {
     "data": {
      "image/png": "[encoded data removed]",
      "text/plain": [
       "<Figure size 2160x2160 with 2 Axes>"
      ]
     },
     "metadata": {
      "needs_background": "light"
     },
     "output_type": "display_data"
    }
   ],
   "source": [
    "### create the correlation matrix heat map\n",
    "plt.figure(figsize=(30,30))\n",
    "sns.heatmap(df2.corr(),linewidths=.1,cmap=\"YlGnBu\", annot=True)\n",
    "plt.yticks(rotation=0);"
   ]
  },
  {
   "cell_type": "code",
   "execution_count": 626,
   "id": "71c11533",
   "metadata": {},
   "outputs": [],
   "source": [
    "from pathlib import Path  \n",
    "filepath = Path('../data/train_clean.csv') \n",
    "df2.to_csv(filepath, index=False)  "
   ]
  },
  {
   "cell_type": "markdown",
   "id": "ae00c0a3",
   "metadata": {},
   "source": [
    "### Preprocessing"
   ]
  },
  {
   "cell_type": "code",
   "execution_count": 649,
   "id": "2e4769df",
   "metadata": {},
   "outputs": [
    {
     "data": {
      "text/html": [
       "<div>\n",
       "<style scoped>\n",
       "    .dataframe tbody tr th:only-of-type {\n",
       "        vertical-align: middle;\n",
       "    }\n",
       "\n",
       "    .dataframe tbody tr th {\n",
       "        vertical-align: top;\n",
       "    }\n",
       "\n",
       "    .dataframe thead th {\n",
       "        text-align: right;\n",
       "    }\n",
       "</style>\n",
       "<table border=\"1\" class=\"dataframe\">\n",
       "  <thead>\n",
       "    <tr style=\"text-align: right;\">\n",
       "      <th></th>\n",
       "      <th>age</th>\n",
       "      <th>job</th>\n",
       "      <th>marital</th>\n",
       "      <th>education</th>\n",
       "      <th>housing</th>\n",
       "      <th>loan</th>\n",
       "      <th>contact</th>\n",
       "      <th>month</th>\n",
       "      <th>day_of_week</th>\n",
       "      <th>duration</th>\n",
       "      <th>campaign</th>\n",
       "      <th>previous</th>\n",
       "      <th>poutcome</th>\n",
       "      <th>cons_price_idx</th>\n",
       "      <th>cons_conf_idx</th>\n",
       "      <th>euribor3m</th>\n",
       "      <th>subscribe</th>\n",
       "    </tr>\n",
       "  </thead>\n",
       "  <tbody>\n",
       "    <tr>\n",
       "      <th>0</th>\n",
       "      <td>56</td>\n",
       "      <td>housemaid</td>\n",
       "      <td>married</td>\n",
       "      <td>basic.4y</td>\n",
       "      <td>no</td>\n",
       "      <td>no</td>\n",
       "      <td>telephone</td>\n",
       "      <td>may</td>\n",
       "      <td>mon</td>\n",
       "      <td>261</td>\n",
       "      <td>1</td>\n",
       "      <td>0</td>\n",
       "      <td>nonexistent</td>\n",
       "      <td>93.994</td>\n",
       "      <td>-36.4</td>\n",
       "      <td>4.857</td>\n",
       "      <td>0</td>\n",
       "    </tr>\n",
       "    <tr>\n",
       "      <th>1</th>\n",
       "      <td>57</td>\n",
       "      <td>services</td>\n",
       "      <td>married</td>\n",
       "      <td>high.school</td>\n",
       "      <td>no</td>\n",
       "      <td>no</td>\n",
       "      <td>telephone</td>\n",
       "      <td>may</td>\n",
       "      <td>mon</td>\n",
       "      <td>149</td>\n",
       "      <td>1</td>\n",
       "      <td>0</td>\n",
       "      <td>nonexistent</td>\n",
       "      <td>93.994</td>\n",
       "      <td>-36.4</td>\n",
       "      <td>4.857</td>\n",
       "      <td>0</td>\n",
       "    </tr>\n",
       "    <tr>\n",
       "      <th>2</th>\n",
       "      <td>37</td>\n",
       "      <td>services</td>\n",
       "      <td>married</td>\n",
       "      <td>high.school</td>\n",
       "      <td>yes</td>\n",
       "      <td>no</td>\n",
       "      <td>telephone</td>\n",
       "      <td>may</td>\n",
       "      <td>mon</td>\n",
       "      <td>226</td>\n",
       "      <td>1</td>\n",
       "      <td>0</td>\n",
       "      <td>nonexistent</td>\n",
       "      <td>93.994</td>\n",
       "      <td>-36.4</td>\n",
       "      <td>4.857</td>\n",
       "      <td>0</td>\n",
       "    </tr>\n",
       "    <tr>\n",
       "      <th>3</th>\n",
       "      <td>40</td>\n",
       "      <td>admin.</td>\n",
       "      <td>married</td>\n",
       "      <td>basic.6y</td>\n",
       "      <td>no</td>\n",
       "      <td>no</td>\n",
       "      <td>telephone</td>\n",
       "      <td>may</td>\n",
       "      <td>mon</td>\n",
       "      <td>151</td>\n",
       "      <td>1</td>\n",
       "      <td>0</td>\n",
       "      <td>nonexistent</td>\n",
       "      <td>93.994</td>\n",
       "      <td>-36.4</td>\n",
       "      <td>4.857</td>\n",
       "      <td>0</td>\n",
       "    </tr>\n",
       "    <tr>\n",
       "      <th>4</th>\n",
       "      <td>56</td>\n",
       "      <td>services</td>\n",
       "      <td>married</td>\n",
       "      <td>high.school</td>\n",
       "      <td>no</td>\n",
       "      <td>yes</td>\n",
       "      <td>telephone</td>\n",
       "      <td>may</td>\n",
       "      <td>mon</td>\n",
       "      <td>307</td>\n",
       "      <td>1</td>\n",
       "      <td>0</td>\n",
       "      <td>nonexistent</td>\n",
       "      <td>93.994</td>\n",
       "      <td>-36.4</td>\n",
       "      <td>4.857</td>\n",
       "      <td>0</td>\n",
       "    </tr>\n",
       "  </tbody>\n",
       "</table>\n",
       "</div>"
      ],
      "text/plain": [
       "   age        job  marital    education housing loan    contact month  \\\n",
       "0   56  housemaid  married     basic.4y      no   no  telephone   may   \n",
       "1   57   services  married  high.school      no   no  telephone   may   \n",
       "2   37   services  married  high.school     yes   no  telephone   may   \n",
       "3   40     admin.  married     basic.6y      no   no  telephone   may   \n",
       "4   56   services  married  high.school      no  yes  telephone   may   \n",
       "\n",
       "  day_of_week  duration  campaign  previous     poutcome  cons_price_idx  \\\n",
       "0         mon       261         1         0  nonexistent          93.994   \n",
       "1         mon       149         1         0  nonexistent          93.994   \n",
       "2         mon       226         1         0  nonexistent          93.994   \n",
       "3         mon       151         1         0  nonexistent          93.994   \n",
       "4         mon       307         1         0  nonexistent          93.994   \n",
       "\n",
       "   cons_conf_idx  euribor3m  subscribe  \n",
       "0          -36.4      4.857          0  \n",
       "1          -36.4      4.857          0  \n",
       "2          -36.4      4.857          0  \n",
       "3          -36.4      4.857          0  \n",
       "4          -36.4      4.857          0  "
      ]
     },
     "execution_count": 649,
     "metadata": {},
     "output_type": "execute_result"
    }
   ],
   "source": [
    "from pathlib import Path  \n",
    "filepath = Path('../data/train_clean.csv') \n",
    "clean_data = pd.read_csv(filepath)\n",
    "clean_data.head()"
   ]
  },
  {
   "cell_type": "code",
   "execution_count": 650,
   "id": "89e9b3e3",
   "metadata": {},
   "outputs": [
    {
     "data": {
      "text/plain": [
       "array(['job', 'marital', 'education', 'housing', 'loan', 'contact',\n",
       "       'month', 'day_of_week', 'poutcome'], dtype=object)"
      ]
     },
     "execution_count": 650,
     "metadata": {},
     "output_type": "execute_result"
    }
   ],
   "source": [
    "X = clean_data.drop('subscribe', axis=1)\n",
    "cat_cols = X.select_dtypes(include='object').columns.values\n",
    "cat_cols"
   ]
  },
  {
   "cell_type": "code",
   "execution_count": 651,
   "id": "23a1a0c4",
   "metadata": {},
   "outputs": [],
   "source": [
    "X=pd.get_dummies(X, columns= cat_cols, drop_first = True, prefix =cat_cols)\n",
    "y=clean_data['subscribe']"
   ]
  },
  {
   "cell_type": "code",
   "execution_count": 652,
   "id": "19a1df88",
   "metadata": {},
   "outputs": [],
   "source": [
    "y=clean_data['subscribe']"
   ]
  },
  {
   "cell_type": "code",
   "execution_count": 653,
   "id": "e4c63b19",
   "metadata": {},
   "outputs": [
    {
     "name": "stdout",
     "output_type": "stream",
     "text": [
      "<class 'pandas.core.frame.DataFrame'>\n",
      "RangeIndex: 39241 entries, 0 to 39240\n",
      "Data columns (total 48 columns):\n",
      " #   Column                         Non-Null Count  Dtype  \n",
      "---  ------                         --------------  -----  \n",
      " 0   age                            39241 non-null  int64  \n",
      " 1   duration                       39241 non-null  int64  \n",
      " 2   campaign                       39241 non-null  int64  \n",
      " 3   previous                       39241 non-null  int64  \n",
      " 4   cons_price_idx                 39241 non-null  float64\n",
      " 5   cons_conf_idx                  39241 non-null  float64\n",
      " 6   euribor3m                      39241 non-null  float64\n",
      " 7   job_blue-collar                39241 non-null  uint8  \n",
      " 8   job_entrepreneur               39241 non-null  uint8  \n",
      " 9   job_housemaid                  39241 non-null  uint8  \n",
      " 10  job_management                 39241 non-null  uint8  \n",
      " 11  job_retired                    39241 non-null  uint8  \n",
      " 12  job_self-employed              39241 non-null  uint8  \n",
      " 13  job_services                   39241 non-null  uint8  \n",
      " 14  job_student                    39241 non-null  uint8  \n",
      " 15  job_technician                 39241 non-null  uint8  \n",
      " 16  job_unemployed                 39241 non-null  uint8  \n",
      " 17  job_unknown                    39241 non-null  uint8  \n",
      " 18  marital_married                39241 non-null  uint8  \n",
      " 19  marital_single                 39241 non-null  uint8  \n",
      " 20  marital_unknown                39241 non-null  uint8  \n",
      " 21  education_basic.6y             39241 non-null  uint8  \n",
      " 22  education_basic.9y             39241 non-null  uint8  \n",
      " 23  education_high.school          39241 non-null  uint8  \n",
      " 24  education_illiterate           39241 non-null  uint8  \n",
      " 25  education_professional.course  39241 non-null  uint8  \n",
      " 26  education_university.degree    39241 non-null  uint8  \n",
      " 27  education_unknown              39241 non-null  uint8  \n",
      " 28  housing_unknown                39241 non-null  uint8  \n",
      " 29  housing_yes                    39241 non-null  uint8  \n",
      " 30  loan_unknown                   39241 non-null  uint8  \n",
      " 31  loan_yes                       39241 non-null  uint8  \n",
      " 32  contact_telephone              39241 non-null  uint8  \n",
      " 33  month_aug                      39241 non-null  uint8  \n",
      " 34  month_dec                      39241 non-null  uint8  \n",
      " 35  month_jul                      39241 non-null  uint8  \n",
      " 36  month_jun                      39241 non-null  uint8  \n",
      " 37  month_mar                      39241 non-null  uint8  \n",
      " 38  month_may                      39241 non-null  uint8  \n",
      " 39  month_nov                      39241 non-null  uint8  \n",
      " 40  month_oct                      39241 non-null  uint8  \n",
      " 41  month_sep                      39241 non-null  uint8  \n",
      " 42  day_of_week_mon                39241 non-null  uint8  \n",
      " 43  day_of_week_thu                39241 non-null  uint8  \n",
      " 44  day_of_week_tue                39241 non-null  uint8  \n",
      " 45  day_of_week_wed                39241 non-null  uint8  \n",
      " 46  poutcome_nonexistent           39241 non-null  uint8  \n",
      " 47  poutcome_success               39241 non-null  uint8  \n",
      "dtypes: float64(3), int64(4), uint8(41)\n",
      "memory usage: 3.6 MB\n"
     ]
    }
   ],
   "source": [
    "X.info()"
   ]
  },
  {
   "cell_type": "code",
   "execution_count": 654,
   "id": "722e2628",
   "metadata": {},
   "outputs": [
    {
     "name": "stdout",
     "output_type": "stream",
     "text": [
      "age                              0\n",
      "duration                         0\n",
      "campaign                         0\n",
      "previous                         0\n",
      "cons_price_idx                   0\n",
      "cons_conf_idx                    0\n",
      "euribor3m                        0\n",
      "job_blue-collar                  0\n",
      "job_entrepreneur                 0\n",
      "job_housemaid                    0\n",
      "job_management                   0\n",
      "job_retired                      0\n",
      "job_self-employed                0\n",
      "job_services                     0\n",
      "job_student                      0\n",
      "job_technician                   0\n",
      "job_unemployed                   0\n",
      "job_unknown                      0\n",
      "marital_married                  0\n",
      "marital_single                   0\n",
      "marital_unknown                  0\n",
      "education_basic.6y               0\n",
      "education_basic.9y               0\n",
      "education_high.school            0\n",
      "education_illiterate             0\n",
      "education_professional.course    0\n",
      "education_university.degree      0\n",
      "education_unknown                0\n",
      "housing_unknown                  0\n",
      "housing_yes                      0\n",
      "loan_unknown                     0\n",
      "loan_yes                         0\n",
      "contact_telephone                0\n",
      "month_aug                        0\n",
      "month_dec                        0\n",
      "month_jul                        0\n",
      "month_jun                        0\n",
      "month_mar                        0\n",
      "month_may                        0\n",
      "month_nov                        0\n",
      "month_oct                        0\n",
      "month_sep                        0\n",
      "day_of_week_mon                  0\n",
      "day_of_week_thu                  0\n",
      "day_of_week_tue                  0\n",
      "day_of_week_wed                  0\n",
      "poutcome_nonexistent             0\n",
      "poutcome_success                 0\n",
      "dtype: int64\n"
     ]
    }
   ],
   "source": [
    "print(X.isnull().sum())"
   ]
  },
  {
   "cell_type": "code",
   "execution_count": 655,
   "id": "1e0f3623",
   "metadata": {},
   "outputs": [
    {
     "name": "stdout",
     "output_type": "stream",
     "text": [
      "age                              0\n",
      "duration                         0\n",
      "campaign                         0\n",
      "previous                         0\n",
      "cons_price_idx                   0\n",
      "cons_conf_idx                    0\n",
      "euribor3m                        0\n",
      "job_blue-collar                  0\n",
      "job_entrepreneur                 0\n",
      "job_housemaid                    0\n",
      "job_management                   0\n",
      "job_retired                      0\n",
      "job_self-employed                0\n",
      "job_services                     0\n",
      "job_student                      0\n",
      "job_technician                   0\n",
      "job_unemployed                   0\n",
      "job_unknown                      0\n",
      "marital_married                  0\n",
      "marital_single                   0\n",
      "marital_unknown                  0\n",
      "education_basic.6y               0\n",
      "education_basic.9y               0\n",
      "education_high.school            0\n",
      "education_illiterate             0\n",
      "education_professional.course    0\n",
      "education_university.degree      0\n",
      "education_unknown                0\n",
      "housing_unknown                  0\n",
      "housing_yes                      0\n",
      "loan_unknown                     0\n",
      "loan_yes                         0\n",
      "contact_telephone                0\n",
      "month_aug                        0\n",
      "month_dec                        0\n",
      "month_jul                        0\n",
      "month_jun                        0\n",
      "month_mar                        0\n",
      "month_may                        0\n",
      "month_nov                        0\n",
      "month_oct                        0\n",
      "month_sep                        0\n",
      "day_of_week_mon                  0\n",
      "day_of_week_thu                  0\n",
      "day_of_week_tue                  0\n",
      "day_of_week_wed                  0\n",
      "poutcome_nonexistent             0\n",
      "poutcome_success                 0\n",
      "dtype: int64\n"
     ]
    }
   ],
   "source": [
    "print(X.isna().sum())"
   ]
  },
  {
   "cell_type": "code",
   "execution_count": 656,
   "id": "6786f960",
   "metadata": {},
   "outputs": [
    {
     "data": {
      "text/plain": [
       "Index(['age', 'duration', 'campaign', 'previous', 'cons_price_idx',\n",
       "       'cons_conf_idx', 'euribor3m', 'job_blue-collar', 'job_entrepreneur',\n",
       "       'job_housemaid', 'job_management', 'job_retired', 'job_self-employed',\n",
       "       'job_services', 'job_student', 'job_technician', 'job_unemployed',\n",
       "       'job_unknown', 'marital_married', 'marital_single', 'marital_unknown',\n",
       "       'education_basic.6y', 'education_basic.9y', 'education_high.school',\n",
       "       'education_illiterate', 'education_professional.course',\n",
       "       'education_university.degree', 'education_unknown', 'housing_unknown',\n",
       "       'housing_yes', 'loan_unknown', 'loan_yes', 'contact_telephone',\n",
       "       'month_aug', 'month_dec', 'month_jul', 'month_jun', 'month_mar',\n",
       "       'month_may', 'month_nov', 'month_oct', 'month_sep', 'day_of_week_mon',\n",
       "       'day_of_week_thu', 'day_of_week_tue', 'day_of_week_wed',\n",
       "       'poutcome_nonexistent', 'poutcome_success'],\n",
       "      dtype='object')"
      ]
     },
     "execution_count": 656,
     "metadata": {},
     "output_type": "execute_result"
    }
   ],
   "source": [
    "X.columns"
   ]
  },
  {
   "cell_type": "code",
   "execution_count": 657,
   "id": "b8e08f12",
   "metadata": {},
   "outputs": [],
   "source": [
    "from sklearn.model_selection import train_test_split\n",
    "X_train, X_test, y_train, y_test = train_test_split(X, y, test_size=0.2, random_state=40)"
   ]
  },
  {
   "cell_type": "code",
   "execution_count": 658,
   "id": "7155dfa7",
   "metadata": {},
   "outputs": [
    {
     "data": {
      "text/plain": [
       "((31392, 48), (7849, 48), (31392,), (7849,))"
      ]
     },
     "execution_count": 658,
     "metadata": {},
     "output_type": "execute_result"
    }
   ],
   "source": [
    "X_train.shape, X_test.shape,y_train.shape, y_test.shape"
   ]
  },
  {
   "cell_type": "code",
   "execution_count": 659,
   "id": "69269e22",
   "metadata": {},
   "outputs": [
    {
     "data": {
      "text/html": [
       "<div>\n",
       "<style scoped>\n",
       "    .dataframe tbody tr th:only-of-type {\n",
       "        vertical-align: middle;\n",
       "    }\n",
       "\n",
       "    .dataframe tbody tr th {\n",
       "        vertical-align: top;\n",
       "    }\n",
       "\n",
       "    .dataframe thead th {\n",
       "        text-align: right;\n",
       "    }\n",
       "</style>\n",
       "<table border=\"1\" class=\"dataframe\">\n",
       "  <thead>\n",
       "    <tr style=\"text-align: right;\">\n",
       "      <th></th>\n",
       "      <th>age</th>\n",
       "      <th>duration</th>\n",
       "      <th>campaign</th>\n",
       "      <th>previous</th>\n",
       "      <th>cons_price_idx</th>\n",
       "      <th>cons_conf_idx</th>\n",
       "      <th>euribor3m</th>\n",
       "      <th>job_blue-collar</th>\n",
       "      <th>job_entrepreneur</th>\n",
       "      <th>job_housemaid</th>\n",
       "      <th>...</th>\n",
       "      <th>month_may</th>\n",
       "      <th>month_nov</th>\n",
       "      <th>month_oct</th>\n",
       "      <th>month_sep</th>\n",
       "      <th>day_of_week_mon</th>\n",
       "      <th>day_of_week_thu</th>\n",
       "      <th>day_of_week_tue</th>\n",
       "      <th>day_of_week_wed</th>\n",
       "      <th>poutcome_nonexistent</th>\n",
       "      <th>poutcome_success</th>\n",
       "    </tr>\n",
       "  </thead>\n",
       "  <tbody>\n",
       "    <tr>\n",
       "      <th>34755</th>\n",
       "      <td>38</td>\n",
       "      <td>178</td>\n",
       "      <td>1</td>\n",
       "      <td>0</td>\n",
       "      <td>92.893</td>\n",
       "      <td>-46.2</td>\n",
       "      <td>1.244</td>\n",
       "      <td>1</td>\n",
       "      <td>0</td>\n",
       "      <td>0</td>\n",
       "      <td>...</td>\n",
       "      <td>1</td>\n",
       "      <td>0</td>\n",
       "      <td>0</td>\n",
       "      <td>0</td>\n",
       "      <td>1</td>\n",
       "      <td>0</td>\n",
       "      <td>0</td>\n",
       "      <td>0</td>\n",
       "      <td>1</td>\n",
       "      <td>0</td>\n",
       "    </tr>\n",
       "    <tr>\n",
       "      <th>11065</th>\n",
       "      <td>52</td>\n",
       "      <td>106</td>\n",
       "      <td>2</td>\n",
       "      <td>0</td>\n",
       "      <td>94.465</td>\n",
       "      <td>-41.8</td>\n",
       "      <td>4.961</td>\n",
       "      <td>1</td>\n",
       "      <td>0</td>\n",
       "      <td>0</td>\n",
       "      <td>...</td>\n",
       "      <td>0</td>\n",
       "      <td>0</td>\n",
       "      <td>0</td>\n",
       "      <td>0</td>\n",
       "      <td>0</td>\n",
       "      <td>1</td>\n",
       "      <td>0</td>\n",
       "      <td>0</td>\n",
       "      <td>1</td>\n",
       "      <td>0</td>\n",
       "    </tr>\n",
       "    <tr>\n",
       "      <th>21846</th>\n",
       "      <td>30</td>\n",
       "      <td>72</td>\n",
       "      <td>1</td>\n",
       "      <td>0</td>\n",
       "      <td>93.444</td>\n",
       "      <td>-36.1</td>\n",
       "      <td>4.964</td>\n",
       "      <td>0</td>\n",
       "      <td>0</td>\n",
       "      <td>0</td>\n",
       "      <td>...</td>\n",
       "      <td>0</td>\n",
       "      <td>0</td>\n",
       "      <td>0</td>\n",
       "      <td>0</td>\n",
       "      <td>0</td>\n",
       "      <td>0</td>\n",
       "      <td>0</td>\n",
       "      <td>0</td>\n",
       "      <td>1</td>\n",
       "      <td>0</td>\n",
       "    </tr>\n",
       "    <tr>\n",
       "      <th>8621</th>\n",
       "      <td>29</td>\n",
       "      <td>133</td>\n",
       "      <td>1</td>\n",
       "      <td>0</td>\n",
       "      <td>94.465</td>\n",
       "      <td>-41.8</td>\n",
       "      <td>4.866</td>\n",
       "      <td>0</td>\n",
       "      <td>0</td>\n",
       "      <td>0</td>\n",
       "      <td>...</td>\n",
       "      <td>0</td>\n",
       "      <td>0</td>\n",
       "      <td>0</td>\n",
       "      <td>0</td>\n",
       "      <td>0</td>\n",
       "      <td>1</td>\n",
       "      <td>0</td>\n",
       "      <td>0</td>\n",
       "      <td>1</td>\n",
       "      <td>0</td>\n",
       "    </tr>\n",
       "    <tr>\n",
       "      <th>19928</th>\n",
       "      <td>52</td>\n",
       "      <td>140</td>\n",
       "      <td>3</td>\n",
       "      <td>0</td>\n",
       "      <td>93.444</td>\n",
       "      <td>-36.1</td>\n",
       "      <td>4.966</td>\n",
       "      <td>0</td>\n",
       "      <td>0</td>\n",
       "      <td>1</td>\n",
       "      <td>...</td>\n",
       "      <td>0</td>\n",
       "      <td>0</td>\n",
       "      <td>0</td>\n",
       "      <td>0</td>\n",
       "      <td>0</td>\n",
       "      <td>0</td>\n",
       "      <td>1</td>\n",
       "      <td>0</td>\n",
       "      <td>1</td>\n",
       "      <td>0</td>\n",
       "    </tr>\n",
       "  </tbody>\n",
       "</table>\n",
       "<p>5 rows × 48 columns</p>\n",
       "</div>"
      ],
      "text/plain": [
       "       age  duration  campaign  previous  cons_price_idx  cons_conf_idx  \\\n",
       "34755   38       178         1         0          92.893          -46.2   \n",
       "11065   52       106         2         0          94.465          -41.8   \n",
       "21846   30        72         1         0          93.444          -36.1   \n",
       "8621    29       133         1         0          94.465          -41.8   \n",
       "19928   52       140         3         0          93.444          -36.1   \n",
       "\n",
       "       euribor3m  job_blue-collar  job_entrepreneur  job_housemaid  ...  \\\n",
       "34755      1.244                1                 0              0  ...   \n",
       "11065      4.961                1                 0              0  ...   \n",
       "21846      4.964                0                 0              0  ...   \n",
       "8621       4.866                0                 0              0  ...   \n",
       "19928      4.966                0                 0              1  ...   \n",
       "\n",
       "       month_may  month_nov  month_oct  month_sep  day_of_week_mon  \\\n",
       "34755          1          0          0          0                1   \n",
       "11065          0          0          0          0                0   \n",
       "21846          0          0          0          0                0   \n",
       "8621           0          0          0          0                0   \n",
       "19928          0          0          0          0                0   \n",
       "\n",
       "       day_of_week_thu  day_of_week_tue  day_of_week_wed  \\\n",
       "34755                0                0                0   \n",
       "11065                1                0                0   \n",
       "21846                0                0                0   \n",
       "8621                 1                0                0   \n",
       "19928                0                1                0   \n",
       "\n",
       "       poutcome_nonexistent  poutcome_success  \n",
       "34755                     1                 0  \n",
       "11065                     1                 0  \n",
       "21846                     1                 0  \n",
       "8621                      1                 0  \n",
       "19928                     1                 0  \n",
       "\n",
       "[5 rows x 48 columns]"
      ]
     },
     "execution_count": 659,
     "metadata": {},
     "output_type": "execute_result"
    }
   ],
   "source": [
    "X_train.head()"
   ]
  },
  {
   "cell_type": "code",
   "execution_count": 660,
   "id": "eb26605d",
   "metadata": {},
   "outputs": [
    {
     "name": "stdout",
     "output_type": "stream",
     "text": [
      "<class 'pandas.core.frame.DataFrame'>\n",
      "Int64Index: 31392 entries, 34755 to 11590\n",
      "Data columns (total 48 columns):\n",
      " #   Column                         Non-Null Count  Dtype  \n",
      "---  ------                         --------------  -----  \n",
      " 0   age                            31392 non-null  int64  \n",
      " 1   duration                       31392 non-null  int64  \n",
      " 2   campaign                       31392 non-null  int64  \n",
      " 3   previous                       31392 non-null  int64  \n",
      " 4   cons_price_idx                 31392 non-null  float64\n",
      " 5   cons_conf_idx                  31392 non-null  float64\n",
      " 6   euribor3m                      31392 non-null  float64\n",
      " 7   job_blue-collar                31392 non-null  uint8  \n",
      " 8   job_entrepreneur               31392 non-null  uint8  \n",
      " 9   job_housemaid                  31392 non-null  uint8  \n",
      " 10  job_management                 31392 non-null  uint8  \n",
      " 11  job_retired                    31392 non-null  uint8  \n",
      " 12  job_self-employed              31392 non-null  uint8  \n",
      " 13  job_services                   31392 non-null  uint8  \n",
      " 14  job_student                    31392 non-null  uint8  \n",
      " 15  job_technician                 31392 non-null  uint8  \n",
      " 16  job_unemployed                 31392 non-null  uint8  \n",
      " 17  job_unknown                    31392 non-null  uint8  \n",
      " 18  marital_married                31392 non-null  uint8  \n",
      " 19  marital_single                 31392 non-null  uint8  \n",
      " 20  marital_unknown                31392 non-null  uint8  \n",
      " 21  education_basic.6y             31392 non-null  uint8  \n",
      " 22  education_basic.9y             31392 non-null  uint8  \n",
      " 23  education_high.school          31392 non-null  uint8  \n",
      " 24  education_illiterate           31392 non-null  uint8  \n",
      " 25  education_professional.course  31392 non-null  uint8  \n",
      " 26  education_university.degree    31392 non-null  uint8  \n",
      " 27  education_unknown              31392 non-null  uint8  \n",
      " 28  housing_unknown                31392 non-null  uint8  \n",
      " 29  housing_yes                    31392 non-null  uint8  \n",
      " 30  loan_unknown                   31392 non-null  uint8  \n",
      " 31  loan_yes                       31392 non-null  uint8  \n",
      " 32  contact_telephone              31392 non-null  uint8  \n",
      " 33  month_aug                      31392 non-null  uint8  \n",
      " 34  month_dec                      31392 non-null  uint8  \n",
      " 35  month_jul                      31392 non-null  uint8  \n",
      " 36  month_jun                      31392 non-null  uint8  \n",
      " 37  month_mar                      31392 non-null  uint8  \n",
      " 38  month_may                      31392 non-null  uint8  \n",
      " 39  month_nov                      31392 non-null  uint8  \n",
      " 40  month_oct                      31392 non-null  uint8  \n",
      " 41  month_sep                      31392 non-null  uint8  \n",
      " 42  day_of_week_mon                31392 non-null  uint8  \n",
      " 43  day_of_week_thu                31392 non-null  uint8  \n",
      " 44  day_of_week_tue                31392 non-null  uint8  \n",
      " 45  day_of_week_wed                31392 non-null  uint8  \n",
      " 46  poutcome_nonexistent           31392 non-null  uint8  \n",
      " 47  poutcome_success               31392 non-null  uint8  \n",
      "dtypes: float64(3), int64(4), uint8(41)\n",
      "memory usage: 3.1 MB\n"
     ]
    }
   ],
   "source": [
    "X_train.info()"
   ]
  },
  {
   "cell_type": "code",
   "execution_count": 661,
   "id": "cf28a79f",
   "metadata": {},
   "outputs": [],
   "source": [
    "# Logistic, SVM, Neural Networks and KNN are sensitive to scaling.  \n",
    "#Since we are using these algorithms, we should use scaled data in these models.\n",
    "\n",
    "from sklearn import preprocessing\n",
    "import numpy as np\n",
    "# build scaler based on training data and apply it to test data to then also scale the test data\n",
    "scaler = preprocessing.StandardScaler()\n",
    "X_train_scaled=scaler.fit_transform(X_train)\n",
    "X_test_scaled=scaler.transform(X_test)\n",
    "X_scaled=scaler.transform(X)"
   ]
  },
  {
   "cell_type": "code",
   "execution_count": 662,
   "id": "22d1b69e",
   "metadata": {},
   "outputs": [
    {
     "data": {
      "text/plain": [
       "array([[ 1.70719861,  0.08075072, -0.70510915, ..., -0.49783887,\n",
       "         0.3883523 , -0.17336793],\n",
       "       [ 1.81109685, -0.44788015, -0.70510915, ..., -0.49783887,\n",
       "         0.3883523 , -0.17336793],\n",
       "       [-0.2668681 , -0.08444643, -0.70510915, ..., -0.49783887,\n",
       "         0.3883523 , -0.17336793],\n",
       "       ...,\n",
       "       [ 0.66821613,  0.65658077, -0.70510915, ..., -0.49783887,\n",
       "         0.3883523 , -0.17336793],\n",
       "       [ 1.70719861, -0.25908341, -0.19524375, ..., -0.49783887,\n",
       "         0.3883523 , -0.17336793],\n",
       "       [ 0.46041963,  0.93505596, -0.70510915, ..., -0.49783887,\n",
       "         0.3883523 , -0.17336793]])"
      ]
     },
     "execution_count": 662,
     "metadata": {},
     "output_type": "execute_result"
    }
   ],
   "source": [
    "X_scaled"
   ]
  },
  {
   "cell_type": "markdown",
   "id": "3c5c0c0b",
   "metadata": {},
   "source": [
    "### Model Selection"
   ]
  },
  {
   "cell_type": "code",
   "execution_count": 663,
   "id": "f92e9230",
   "metadata": {},
   "outputs": [],
   "source": [
    "from sklearn.model_selection import cross_val_score\n",
    "from sklearn.metrics import confusion_matrix\n",
    "from sklearn.metrics import classification_report\n",
    "from sklearn.metrics import ConfusionMatrixDisplay\n",
    "from sklearn.metrics import accuracy_score\n",
    "from sklearn.metrics import f1_score\n",
    "from sklearn.linear_model import LogisticRegression\n",
    "from sklearn.ensemble import RandomForestClassifier\n",
    "from sklearn.ensemble import GradientBoostingClassifier\n",
    "from xgboost import XGBClassifier\n",
    "from sklearn.metrics import plot_confusion_matrix"
   ]
  },
  {
   "cell_type": "code",
   "execution_count": 664,
   "id": "0c8591d3",
   "metadata": {},
   "outputs": [
    {
     "data": {
      "text/html": [
       "<style>#sk-container-id-4 {color: black;background-color: white;}#sk-container-id-4 pre{padding: 0;}#sk-container-id-4 div.sk-toggleable {background-color: white;}#sk-container-id-4 label.sk-toggleable__label {cursor: pointer;display: block;width: 100%;margin-bottom: 0;padding: 0.3em;box-sizing: border-box;text-align: center;}#sk-container-id-4 label.sk-toggleable__label-arrow:before {content: \"▸\";float: left;margin-right: 0.25em;color: #696969;}#sk-container-id-4 label.sk-toggleable__label-arrow:hover:before {color: black;}#sk-container-id-4 div.sk-estimator:hover label.sk-toggleable__label-arrow:before {color: black;}#sk-container-id-4 div.sk-toggleable__content {max-height: 0;max-width: 0;overflow: hidden;text-align: left;background-color: #f0f8ff;}#sk-container-id-4 div.sk-toggleable__content pre {margin: 0.2em;color: black;border-radius: 0.25em;background-color: #f0f8ff;}#sk-container-id-4 input.sk-toggleable__control:checked~div.sk-toggleable__content {max-height: 200px;max-width: 100%;overflow: auto;}#sk-container-id-4 input.sk-toggleable__control:checked~label.sk-toggleable__label-arrow:before {content: \"▾\";}#sk-container-id-4 div.sk-estimator input.sk-toggleable__control:checked~label.sk-toggleable__label {background-color: #d4ebff;}#sk-container-id-4 div.sk-label input.sk-toggleable__control:checked~label.sk-toggleable__label {background-color: #d4ebff;}#sk-container-id-4 input.sk-hidden--visually {border: 0;clip: rect(1px 1px 1px 1px);clip: rect(1px, 1px, 1px, 1px);height: 1px;margin: -1px;overflow: hidden;padding: 0;position: absolute;width: 1px;}#sk-container-id-4 div.sk-estimator {font-family: monospace;background-color: #f0f8ff;border: 1px dotted black;border-radius: 0.25em;box-sizing: border-box;margin-bottom: 0.5em;}#sk-container-id-4 div.sk-estimator:hover {background-color: #d4ebff;}#sk-container-id-4 div.sk-parallel-item::after {content: \"\";width: 100%;border-bottom: 1px solid gray;flex-grow: 1;}#sk-container-id-4 div.sk-label:hover label.sk-toggleable__label {background-color: #d4ebff;}#sk-container-id-4 div.sk-serial::before {content: \"\";position: absolute;border-left: 1px solid gray;box-sizing: border-box;top: 0;bottom: 0;left: 50%;z-index: 0;}#sk-container-id-4 div.sk-serial {display: flex;flex-direction: column;align-items: center;background-color: white;padding-right: 0.2em;padding-left: 0.2em;position: relative;}#sk-container-id-4 div.sk-item {position: relative;z-index: 1;}#sk-container-id-4 div.sk-parallel {display: flex;align-items: stretch;justify-content: center;background-color: white;position: relative;}#sk-container-id-4 div.sk-item::before, #sk-container-id-4 div.sk-parallel-item::before {content: \"\";position: absolute;border-left: 1px solid gray;box-sizing: border-box;top: 0;bottom: 0;left: 50%;z-index: -1;}#sk-container-id-4 div.sk-parallel-item {display: flex;flex-direction: column;z-index: 1;position: relative;background-color: white;}#sk-container-id-4 div.sk-parallel-item:first-child::after {align-self: flex-end;width: 50%;}#sk-container-id-4 div.sk-parallel-item:last-child::after {align-self: flex-start;width: 50%;}#sk-container-id-4 div.sk-parallel-item:only-child::after {width: 0;}#sk-container-id-4 div.sk-dashed-wrapped {border: 1px dashed gray;margin: 0 0.4em 0.5em 0.4em;box-sizing: border-box;padding-bottom: 0.4em;background-color: white;}#sk-container-id-4 div.sk-label label {font-family: monospace;font-weight: bold;display: inline-block;line-height: 1.2em;}#sk-container-id-4 div.sk-label-container {text-align: center;}#sk-container-id-4 div.sk-container {/* jupyter's `normalize.less` sets `[hidden] { display: none; }` but bootstrap.min.css set `[hidden] { display: none !important; }` so we also need the `!important` here to be able to override the default hidden behavior on the sphinx rendered scikit-learn.org. See: https://github.com/scikit-learn/scikit-learn/issues/21755 */display: inline-block !important;position: relative;}#sk-container-id-4 div.sk-text-repr-fallback {display: none;}</style><div id=\"sk-container-id-4\" class=\"sk-top-container\"><div class=\"sk-text-repr-fallback\"><pre>LogisticRegression(random_state=42)</pre><b>In a Jupyter environment, please rerun this cell to show the HTML representation or trust the notebook. <br />On GitHub, the HTML representation is unable to render, please try loading this page with nbviewer.org.</b></div><div class=\"sk-container\" hidden><div class=\"sk-item\"><div class=\"sk-estimator sk-toggleable\"><input class=\"sk-toggleable__control sk-hidden--visually\" id=\"sk-estimator-id-4\" type=\"checkbox\" checked><label for=\"sk-estimator-id-4\" class=\"sk-toggleable__label sk-toggleable__label-arrow\">LogisticRegression</label><div class=\"sk-toggleable__content\"><pre>LogisticRegression(random_state=42)</pre></div></div></div></div></div>"
      ],
      "text/plain": [
       "LogisticRegression(random_state=42)"
      ]
     },
     "execution_count": 664,
     "metadata": {},
     "output_type": "execute_result"
    }
   ],
   "source": [
    "log_reg = LogisticRegression(random_state=42)\n",
    "# Fit the model on the trainng data.\n",
    "log_reg.fit(X_train_scaled,y_train)"
   ]
  },
  {
   "cell_type": "code",
   "execution_count": 665,
   "id": "a4ecb8cd",
   "metadata": {},
   "outputs": [
    {
     "name": "stdout",
     "output_type": "stream",
     "text": [
      "[0.92403249 0.9162287  0.91892322 0.92067537 0.92083466]\n",
      "0.9201388894173913\n"
     ]
    }
   ],
   "source": [
    "results = cross_val_score(log_reg,X_train_scaled,y_train, cv=5)\n",
    "print(results)\n",
    "print(np.mean(results))"
   ]
  },
  {
   "cell_type": "code",
   "execution_count": 666,
   "id": "74c649d7",
   "metadata": {},
   "outputs": [
    {
     "data": {
      "text/plain": [
       "0.9126003312523888"
      ]
     },
     "execution_count": 666,
     "metadata": {},
     "output_type": "execute_result"
    }
   ],
   "source": [
    "#test score \n",
    "log_reg.score(X_test_scaled, y_test)"
   ]
  },
  {
   "cell_type": "code",
   "execution_count": 667,
   "id": "f3f86e79",
   "metadata": {},
   "outputs": [],
   "source": [
    "y_pred = log_reg.predict(X_test_scaled)"
   ]
  },
  {
   "cell_type": "code",
   "execution_count": 668,
   "id": "4c7b5bd6",
   "metadata": {},
   "outputs": [
    {
     "data": {
      "text/plain": [
       "array([[6819,  197],\n",
       "       [ 489,  344]], dtype=int64)"
      ]
     },
     "execution_count": 668,
     "metadata": {},
     "output_type": "execute_result"
    }
   ],
   "source": [
    "cm = confusion_matrix(y_test, y_pred)\n",
    "cm"
   ]
  },
  {
   "cell_type": "code",
   "execution_count": 669,
   "id": "2b2639fb",
   "metadata": {},
   "outputs": [
    {
     "name": "stdout",
     "output_type": "stream",
     "text": [
      "LogisticRegression Accuracy :  91.26\n",
      "LogisticRegression F1 :  90.42\n"
     ]
    }
   ],
   "source": [
    "acc_score = accuracy_score(y_test, y_pred)\n",
    "f1 = f1_score(y_test, y_pred, average='weighted')\n",
    "print('LogisticRegression Accuracy : ', \"%.2f\" % (acc_score*100))\n",
    "print('LogisticRegression F1 : ', \"%.2f\" % (f1*100))"
   ]
  },
  {
   "cell_type": "code",
   "execution_count": 670,
   "id": "300d96fb",
   "metadata": {},
   "outputs": [
    {
     "name": "stdout",
     "output_type": "stream",
     "text": [
      "              precision    recall  f1-score   support\n",
      "\n",
      "         Yes       0.93      0.97      0.95      7016\n",
      "          No       0.64      0.41      0.50       833\n",
      "\n",
      "    accuracy                           0.91      7849\n",
      "   macro avg       0.78      0.69      0.73      7849\n",
      "weighted avg       0.90      0.91      0.90      7849\n",
      "\n"
     ]
    }
   ],
   "source": [
    "print(classification_report(y_test,y_pred, target_names = ['Yes','No']))"
   ]
  },
  {
   "cell_type": "markdown",
   "id": "8ae13107",
   "metadata": {},
   "source": [
    "###### RandomForestClassifier : "
   ]
  },
  {
   "cell_type": "code",
   "execution_count": 671,
   "id": "87106c82",
   "metadata": {},
   "outputs": [],
   "source": [
    "#class_weight={1: 0.15, 2:0.5, 3: 1.5},random_state=42,verbose=False\n",
    "rfc = RandomForestClassifier(random_state=42)\n",
    "rfc.fit(X_train,y_train)\n",
    "y_pred_rfc = rfc.predict(X_test)"
   ]
  },
  {
   "cell_type": "code",
   "execution_count": 672,
   "id": "66d6204a",
   "metadata": {},
   "outputs": [
    {
     "name": "stdout",
     "output_type": "stream",
     "text": [
      "[0.92355471 0.91941392 0.91892322 0.91669321 0.92147181]\n",
      "0.9200113740482454\n"
     ]
    }
   ],
   "source": [
    "results = cross_val_score(rfc,X_train,y_train, cv=5)\n",
    "print(results)\n",
    "print(np.mean(results))"
   ]
  },
  {
   "cell_type": "code",
   "execution_count": 673,
   "id": "319e4c6a",
   "metadata": {},
   "outputs": [
    {
     "data": {
      "text/plain": [
       "0.9199898076188049"
      ]
     },
     "execution_count": 673,
     "metadata": {},
     "output_type": "execute_result"
    }
   ],
   "source": [
    "#test score\n",
    "rfc.score(X_test, y_test)"
   ]
  },
  {
   "cell_type": "code",
   "execution_count": 674,
   "id": "242017ab",
   "metadata": {},
   "outputs": [
    {
     "name": "stdout",
     "output_type": "stream",
     "text": [
      "              precision    recall  f1-score   support\n",
      "\n",
      "           0       0.94      0.98      0.96      7016\n",
      "           1       0.69      0.45      0.55       833\n",
      "\n",
      "    accuracy                           0.92      7849\n",
      "   macro avg       0.81      0.71      0.75      7849\n",
      "weighted avg       0.91      0.92      0.91      7849\n",
      "\n"
     ]
    }
   ],
   "source": [
    "print(classification_report(y_test,y_pred_rfc))"
   ]
  },
  {
   "cell_type": "code",
   "execution_count": 675,
   "id": "b4940a85",
   "metadata": {},
   "outputs": [
    {
     "name": "stdout",
     "output_type": "stream",
     "text": [
      "RandomForestClassifier Accuracy :  92.00\n",
      "RandomForestClassifier F1 :  91.26\n"
     ]
    }
   ],
   "source": [
    "acc_score = accuracy_score(y_test, y_pred_rfc)\n",
    "f1 = f1_score(y_test, y_pred_rfc, average='weighted')\n",
    "print('RandomForestClassifier Accuracy : ', \"%.2f\" % (acc_score*100))\n",
    "print('RandomForestClassifier F1 : ', \"%.2f\" % (f1*100))"
   ]
  },
  {
   "cell_type": "markdown",
   "id": "8617aa8b",
   "metadata": {},
   "source": [
    "###### GradientBoostingClassifier"
   ]
  },
  {
   "cell_type": "code",
   "execution_count": 676,
   "id": "e4c3b6c3",
   "metadata": {},
   "outputs": [],
   "source": [
    "gbc = GradientBoostingClassifier(random_state=42)\n",
    "gbc.fit(X_train,y_train)\n",
    "y_pred_gbc = gbc.predict(X_test)"
   ]
  },
  {
   "cell_type": "code",
   "execution_count": 677,
   "id": "4291316f",
   "metadata": {},
   "outputs": [
    {
     "name": "stdout",
     "output_type": "stream",
     "text": [
      "[0.92896958 0.92594362 0.92354253 0.92481682 0.92529468]\n",
      "0.9257134465370264\n"
     ]
    }
   ],
   "source": [
    "results = cross_val_score(gbc,X_train,y_train, cv=5)\n",
    "print(results)\n",
    "print(np.mean(results))"
   ]
  },
  {
   "cell_type": "code",
   "execution_count": 678,
   "id": "370b0ffa",
   "metadata": {},
   "outputs": [
    {
     "data": {
      "text/plain": [
       "0.9197349980889286"
      ]
     },
     "execution_count": 678,
     "metadata": {},
     "output_type": "execute_result"
    }
   ],
   "source": [
    "#test score\n",
    "gbc.score(X_test, y_test)"
   ]
  },
  {
   "cell_type": "code",
   "execution_count": 679,
   "id": "ff4e4a60",
   "metadata": {},
   "outputs": [
    {
     "name": "stdout",
     "output_type": "stream",
     "text": [
      "              precision    recall  f1-score   support\n",
      "\n",
      "           0       0.94      0.97      0.96      7016\n",
      "           1       0.67      0.47      0.56       833\n",
      "\n",
      "    accuracy                           0.92      7849\n",
      "   macro avg       0.81      0.72      0.76      7849\n",
      "weighted avg       0.91      0.92      0.91      7849\n",
      "\n"
     ]
    }
   ],
   "source": [
    "print(classification_report(y_test,y_pred_gbc))"
   ]
  },
  {
   "cell_type": "code",
   "execution_count": 680,
   "id": "0b29c88c",
   "metadata": {},
   "outputs": [
    {
     "name": "stdout",
     "output_type": "stream",
     "text": [
      "GradientBoostingClassifier Accuracy :  91.97\n",
      "GradientBoostingClassifier F1 :  91.35\n"
     ]
    }
   ],
   "source": [
    "acc_score = accuracy_score(y_test, y_pred_gbc)\n",
    "f1 = f1_score(y_test, y_pred_gbc, average='weighted')\n",
    "print('GradientBoostingClassifier Accuracy : ', \"%.2f\" % (acc_score*100))\n",
    "print('GradientBoostingClassifier F1 : ', \"%.2f\" % (f1*100))"
   ]
  },
  {
   "cell_type": "markdown",
   "id": "f52e1cb6",
   "metadata": {},
   "source": [
    "###### XGBClassifier"
   ]
  },
  {
   "cell_type": "code",
   "execution_count": 681,
   "id": "74f64a14",
   "metadata": {},
   "outputs": [
    {
     "data": {
      "text/plain": [
       "0.9183335456746082"
      ]
     },
     "execution_count": 681,
     "metadata": {},
     "output_type": "execute_result"
    }
   ],
   "source": [
    "# fit model no training data\n",
    "xgb = XGBClassifier()\n",
    "xgb.fit(X_train, y_train)\n",
    "# make predictions for test data\n",
    "y_pred_xgb = xgb.predict(X_test)\n",
    "#test score\n",
    "xgb.score(X_test, y_test)"
   ]
  },
  {
   "cell_type": "code",
   "execution_count": 682,
   "id": "a4c07ef1",
   "metadata": {},
   "outputs": [
    {
     "name": "stdout",
     "output_type": "stream",
     "text": [
      "[0.92403249 0.92339545 0.91987894 0.91701179 0.9227461 ]\n",
      "0.9214129522798858\n"
     ]
    }
   ],
   "source": [
    "results = cross_val_score(xgb,X_train, y_train, cv=5)\n",
    "print(results)\n",
    "print(np.mean(results))"
   ]
  },
  {
   "cell_type": "code",
   "execution_count": 683,
   "id": "22bcfa68",
   "metadata": {},
   "outputs": [
    {
     "name": "stdout",
     "output_type": "stream",
     "text": [
      "              precision    recall  f1-score   support\n",
      "\n",
      "           0       0.94      0.97      0.95      7016\n",
      "           1       0.65      0.50      0.57       833\n",
      "\n",
      "    accuracy                           0.92      7849\n",
      "   macro avg       0.80      0.74      0.76      7849\n",
      "weighted avg       0.91      0.92      0.91      7849\n",
      "\n"
     ]
    }
   ],
   "source": [
    "print(classification_report(y_test,y_pred_xgb))"
   ]
  },
  {
   "cell_type": "code",
   "execution_count": 684,
   "id": "fdeb0280",
   "metadata": {},
   "outputs": [
    {
     "name": "stdout",
     "output_type": "stream",
     "text": [
      "XGBClassifier Accuracy :  91.83\n",
      "XGBClassifier F1 :  91.38\n"
     ]
    }
   ],
   "source": [
    "acc_score = accuracy_score(y_test, y_pred_xgb)\n",
    "f1 = f1_score(y_test, y_pred_xgb, average='weighted')\n",
    "print('XGBClassifier Accuracy : ', \"%.2f\" % (acc_score*100))\n",
    "print('XGBClassifier F1 : ', \"%.2f\" % (f1*100))"
   ]
  },
  {
   "cell_type": "markdown",
   "id": "ae34eb19",
   "metadata": {},
   "source": [
    "###### Imbalance Data Handling \n",
    "Oversampling is one of the most widely used techniques to deal with imbalance classes. To briefly explain the concept, we generate synthetic samples for minority classes to make sure we have enough data to train the model"
   ]
  },
  {
   "cell_type": "code",
   "execution_count": 685,
   "id": "eeb052d5",
   "metadata": {},
   "outputs": [
    {
     "data": {
      "text/plain": [
       "0    35323\n",
       "1     3918\n",
       "Name: subscribe, dtype: int64"
      ]
     },
     "execution_count": 685,
     "metadata": {},
     "output_type": "execute_result"
    }
   ],
   "source": [
    "# original counts :\n",
    "y.value_counts()"
   ]
  },
  {
   "cell_type": "code",
   "execution_count": 686,
   "id": "1ff2e58a",
   "metadata": {},
   "outputs": [
    {
     "data": {
      "text/plain": [
       "<AxesSubplot:xlabel='subscribe', ylabel='count'>"
      ]
     },
     "execution_count": 686,
     "metadata": {},
     "output_type": "execute_result"
    },
    {
     "data": {
      "image/png": "[encoded data removed]",
      "text/plain": [
       "<Figure size 432x288 with 1 Axes>"
      ]
     },
     "metadata": {
      "needs_background": "light"
     },
     "output_type": "display_data"
    }
   ],
   "source": [
    "sns.countplot(x=\"subscribe\", data=df2)"
   ]
  },
  {
   "cell_type": "code",
   "execution_count": 687,
   "id": "feba8703",
   "metadata": {},
   "outputs": [],
   "source": [
    "from imblearn.over_sampling import RandomOverSampler\n",
    "ros = RandomOverSampler(random_state=42)\n",
    "X_train_ros, y_train_ros = ros.fit_resample(X_train, y_train)"
   ]
  },
  {
   "cell_type": "code",
   "execution_count": 688,
   "id": "a114735d",
   "metadata": {},
   "outputs": [
    {
     "data": {
      "text/plain": [
       "{0: 28307, 1: 28307}"
      ]
     },
     "execution_count": 688,
     "metadata": {},
     "output_type": "execute_result"
    }
   ],
   "source": [
    "unique, counts = np.unique(y_train_ros, return_counts=True)\n",
    "dict(zip(unique, counts))"
   ]
  },
  {
   "cell_type": "code",
   "execution_count": 689,
   "id": "00d91450",
   "metadata": {},
   "outputs": [
    {
     "data": {
      "text/plain": [
       "0.9173143075551026"
      ]
     },
     "execution_count": 689,
     "metadata": {},
     "output_type": "execute_result"
    }
   ],
   "source": [
    "final_model2 = RandomForestClassifier()\n",
    "final_model2.fit(X_train_ros, y_train_ros)\n",
    "y_pred_final2 = final_model2.predict(X_test)\n",
    "#test score\n",
    "final_model2.score(X_test, y_test)"
   ]
  },
  {
   "cell_type": "code",
   "execution_count": 690,
   "id": "f3d155f8",
   "metadata": {},
   "outputs": [
    {
     "name": "stdout",
     "output_type": "stream",
     "text": [
      "RandomOverSampler Accuracy :  91.73\n",
      "RandomOverSampler F1 :  91.62\n"
     ]
    }
   ],
   "source": [
    "acc_score = accuracy_score(y_test, y_pred_final2)\n",
    "f1 = f1_score(y_test, y_pred_final2, average='weighted')\n",
    "print('RandomOverSampler Accuracy : ', \"%.2f\" % (acc_score*100))\n",
    "print('RandomOverSampler F1 : ', \"%.2f\" % (f1*100))"
   ]
  },
  {
   "cell_type": "markdown",
   "id": "3bba451c",
   "metadata": {},
   "source": [
    "###### Using RandomUnderSampler"
   ]
  },
  {
   "cell_type": "code",
   "execution_count": 691,
   "id": "fcb3cdfc",
   "metadata": {},
   "outputs": [],
   "source": [
    "from imblearn.under_sampling import RandomUnderSampler\n",
    "rus = RandomUnderSampler(random_state=42)\n",
    "X_train_rus, y_train_rus = rus.fit_resample(X_train, y_train)"
   ]
  },
  {
   "cell_type": "code",
   "execution_count": 692,
   "id": "66d0d39c",
   "metadata": {},
   "outputs": [
    {
     "data": {
      "text/plain": [
       "{0: 3085, 1: 3085}"
      ]
     },
     "execution_count": 692,
     "metadata": {},
     "output_type": "execute_result"
    }
   ],
   "source": [
    "# counts after over_sampling\n",
    "#y_train_ros.value_counts()\n",
    "unique, counts = np.unique(y_train_rus, return_counts=True)\n",
    "dict(zip(unique, counts))"
   ]
  },
  {
   "cell_type": "code",
   "execution_count": 693,
   "id": "b93ff96d",
   "metadata": {},
   "outputs": [
    {
     "data": {
      "text/plain": [
       "0.85348452032106"
      ]
     },
     "execution_count": 693,
     "metadata": {},
     "output_type": "execute_result"
    }
   ],
   "source": [
    "final_model3 = RandomForestClassifier()\n",
    "final_model3.fit(X_train_rus, y_train_rus)\n",
    "y_pred_final3 = final_model3.predict(X_test)\n",
    "#test score\n",
    "final_model3.score(X_test, y_test)"
   ]
  },
  {
   "cell_type": "code",
   "execution_count": 694,
   "id": "f20ab681",
   "metadata": {},
   "outputs": [
    {
     "name": "stdout",
     "output_type": "stream",
     "text": [
      "RandomUnderSampler Accuracy :  85.35\n",
      "RandomUnderSampler F1 :  87.56\n"
     ]
    }
   ],
   "source": [
    "acc_score = accuracy_score(y_test, y_pred_final3)\n",
    "f1 = f1_score(y_test, y_pred_final3, average='weighted')\n",
    "print('RandomUnderSampler Accuracy : ', \"%.2f\" % (acc_score*100))\n",
    "print ('RandomUnderSampler F1 : ', \"%.2f\" % (f1*100))"
   ]
  },
  {
   "cell_type": "markdown",
   "id": "ab0f02e0",
   "metadata": {},
   "source": [
    "###### Using class_weight  and data adusted with RandomOverSampler"
   ]
  },
  {
   "cell_type": "code",
   "execution_count": 695,
   "id": "66412ae6",
   "metadata": {},
   "outputs": [
    {
     "data": {
      "text/plain": [
       "0.9211364505032488"
      ]
     },
     "execution_count": 695,
     "metadata": {},
     "output_type": "execute_result"
    }
   ],
   "source": [
    "final_model4 = RandomForestClassifier(random_state=42, class_weight ='balanced')\n",
    "final_model4.fit(X_train_ros, y_train_ros)\n",
    "y_pred_final4 = final_model4.predict(X_test)\n",
    "#test score\n",
    "final_model4.score(X_test, y_test)"
   ]
  },
  {
   "cell_type": "code",
   "execution_count": 696,
   "id": "24c24cd8",
   "metadata": {},
   "outputs": [
    {
     "name": "stdout",
     "output_type": "stream",
     "text": [
      "Random Forest classifier with class_weight and ROS Accuracy :  92.11\n",
      "Random Forest classifier with class_weight and ROS  F1 :  92.03\n"
     ]
    }
   ],
   "source": [
    "acc_score = accuracy_score(y_test, y_pred_final4)\n",
    "f1 = f1_score(y_test, y_pred_final4, average='weighted')\n",
    "print('Random Forest classifier with class_weight and ROS Accuracy : ', \"%.2f\" % (acc_score*100))\n",
    "print('Random Forest classifier with class_weight and ROS  F1 : ', \"%.2f\" % (f1*100))"
   ]
  },
  {
   "cell_type": "code",
   "execution_count": 697,
   "id": "c7ccf422",
   "metadata": {},
   "outputs": [
    {
     "name": "stdout",
     "output_type": "stream",
     "text": [
      "              precision    recall  f1-score   support\n",
      "\n",
      "           0       0.95      0.96      0.96      7016\n",
      "           1       0.63      0.61      0.62       833\n",
      "\n",
      "    accuracy                           0.92      7849\n",
      "   macro avg       0.79      0.78      0.79      7849\n",
      "weighted avg       0.92      0.92      0.92      7849\n",
      "\n"
     ]
    }
   ],
   "source": [
    "print(classification_report(y_test,y_pred_final4))"
   ]
  },
  {
   "cell_type": "markdown",
   "id": "97c557e2",
   "metadata": {},
   "source": [
    "#### HyperParameter Tunning"
   ]
  },
  {
   "cell_type": "markdown",
   "id": "a001da7c",
   "metadata": {},
   "source": [
    "###### GridSearchCV"
   ]
  },
  {
   "cell_type": "code",
   "execution_count": 504,
   "id": "9de2ec53",
   "metadata": {},
   "outputs": [
    {
     "data": {
      "text/plain": [
       "{'bootstrap': True,\n",
       " 'ccp_alpha': 0.0,\n",
       " 'class_weight': None,\n",
       " 'criterion': 'gini',\n",
       " 'max_depth': None,\n",
       " 'max_features': 'sqrt',\n",
       " 'max_leaf_nodes': None,\n",
       " 'max_samples': None,\n",
       " 'min_impurity_decrease': 0.0,\n",
       " 'min_samples_leaf': 1,\n",
       " 'min_samples_split': 2,\n",
       " 'min_weight_fraction_leaf': 0.0,\n",
       " 'n_estimators': 100,\n",
       " 'n_jobs': None,\n",
       " 'oob_score': False,\n",
       " 'random_state': 42,\n",
       " 'verbose': 0,\n",
       " 'warm_start': False}"
      ]
     },
     "execution_count": 504,
     "metadata": {},
     "output_type": "execute_result"
    }
   ],
   "source": [
    "rfc = RandomForestClassifier(random_state=42)\n",
    "rfc.get_params()"
   ]
  },
  {
   "cell_type": "code",
   "execution_count": 505,
   "id": "d0bd3915",
   "metadata": {},
   "outputs": [
    {
     "name": "stdout",
     "output_type": "stream",
     "text": [
      "2022-09-19 09:41:34.430864\n",
      "Best Score:0.8957855461063404\n",
      "Best Parameters: {'criterion': 'entropy', 'max_depth': 8, 'max_features': 'auto', 'n_estimators': 200}\n",
      "2022-09-19 10:18:51.570752\n"
     ]
    }
   ],
   "source": [
    "from datetime import datetime\n",
    "print(datetime.now())\n",
    "\n",
    "from sklearn.model_selection import GridSearchCV\n",
    "param_grid = { \n",
    "    'n_estimators': [100, 200, 500],\n",
    "    'max_features': ['auto', 'log2'],\n",
    "    'max_depth' : [4,5,6,7,8],\n",
    "    'criterion' :['gini', 'entropy']\n",
    "}\n",
    "\n",
    "CV_rfc = GridSearchCV(estimator = rfc,param_grid=param_grid,cv=5)\n",
    "CV_rfc.fit(X_train_ros, y_train_ros)\n",
    "print(\"Best Score:\" + str(CV_rfc.best_score_))\n",
    "print(\"Best Parameters: \" + str(CV_rfc.best_params_))\n",
    "from datetime import datetime\n",
    "print(datetime.now())\n",
    "\n",
    "#2022-09-19 09:41:34.430864\n",
    "#Best Score:0.8957855461063404\n",
    "#Best Parameters: {'criterion': 'entropy', 'max_depth': 8, 'max_features': 'auto', 'n_estimators': 200}\n",
    "#2022-09-19 10:18:51.570752"
   ]
  },
  {
   "cell_type": "code",
   "execution_count": 507,
   "id": "0e85c254",
   "metadata": {},
   "outputs": [
    {
     "data": {
      "text/plain": [
       "60"
      ]
     },
     "execution_count": 507,
     "metadata": {},
     "output_type": "execute_result"
    }
   ],
   "source": [
    "from sklearn.model_selection import ParameterGrid\n",
    "param_size = ParameterGrid(param_grid)\n",
    "len(param_size)"
   ]
  },
  {
   "cell_type": "code",
   "execution_count": 698,
   "id": "c9de3898",
   "metadata": {},
   "outputs": [
    {
     "data": {
      "text/plain": [
       "0.8417632819467448"
      ]
     },
     "execution_count": 698,
     "metadata": {},
     "output_type": "execute_result"
    }
   ],
   "source": [
    "model = RandomForestClassifier(random_state=42, criterion= 'entropy', max_depth=8, max_features='auto', n_estimators= 200,class_weight ='balanced')\n",
    "model.fit(X_train_ros, y_train_ros)\n",
    "y_pred = model.predict(X_test)\n",
    "#test score\n",
    "model.score(X_test, y_test)"
   ]
  },
  {
   "cell_type": "code",
   "execution_count": 699,
   "id": "0d224ab8",
   "metadata": {},
   "outputs": [
    {
     "name": "stdout",
     "output_type": "stream",
     "text": [
      "Random Forest classifier+ROS+Class_weight+GridSearchCV accuracy :  84.18\n",
      "Random Forest classifier+ROS+Class_weight+GridSearchCV F1 :  86.70\n"
     ]
    }
   ],
   "source": [
    "acc_score = accuracy_score(y_test, y_pred)\n",
    "f1 = f1_score(y_test, y_pred, average='weighted')\n",
    "print('Random Forest classifier+ROS+Class_weight+GridSearchCV accuracy : ', \"%.2f\" % (acc_score*100))\n",
    "print('Random Forest classifier+ROS+Class_weight+GridSearchCV F1 : ', \"%.2f\" % (f1*100))"
   ]
  },
  {
   "cell_type": "markdown",
   "id": "3480a496",
   "metadata": {},
   "source": [
    "###### RandomizedSearchCV"
   ]
  },
  {
   "cell_type": "code",
   "execution_count": 700,
   "id": "ca0f3f90",
   "metadata": {},
   "outputs": [],
   "source": [
    "from sklearn.model_selection import RandomizedSearchCV"
   ]
  },
  {
   "cell_type": "code",
   "execution_count": 512,
   "id": "6a1f02e7",
   "metadata": {},
   "outputs": [
    {
     "name": "stdout",
     "output_type": "stream",
     "text": [
      "2022-09-19 10:27:03.862740\n",
      "RandomizedSearchCV Best Score:0.975447809634343\n",
      "RandomizedSearchCV Best Parameters: {'n_estimators': 800, 'max_features': 'log2', 'max_depth': 30, 'criterion': 'gini'}\n",
      "2022-09-19 11:14:37.967982\n"
     ]
    }
   ],
   "source": [
    "param_grid = { \n",
    "    'n_estimators': [200, 400, 800],\n",
    "    'max_features': ['auto', 'log2'],\n",
    "    'max_depth' : [10,20,30,40],\n",
    "    'criterion' :['gini', 'entropy']\n",
    "}\n",
    "# calculate the o of iterations here which is 3*2*4*2 =48. we shoud ideally give less than 48.\n",
    "from datetime import datetime\n",
    "print(datetime.now())\n",
    "rfc = RandomForestClassifier(random_state=42)\n",
    "rfc_random = RandomizedSearchCV(estimator = rfc, param_distributions = param_grid, n_iter = 24, cv = 5,random_state=42)\n",
    "rfc_random.fit(X_train_ros, y_train_ros)\n",
    "print(\"RandomizedSearchCV Best Score:\" + str(rfc_random.best_score_))\n",
    "print(\"RandomizedSearchCV Best Parameters: \" + str(rfc_random.best_params_))\n",
    "print(datetime.now())"
   ]
  },
  {
   "cell_type": "code",
   "execution_count": 701,
   "id": "516cc96a",
   "metadata": {},
   "outputs": [
    {
     "name": "stdout",
     "output_type": "stream",
     "text": [
      "Random Forest classifier+ROS+Class_weight+RandomizedSearchCV  accuracy :  91.88\n",
      "Random Forest classifier+ROS+Class_weight+RandomizedSearchCV  F1 :  91.73\n"
     ]
    }
   ],
   "source": [
    "model = RandomForestClassifier(random_state=42, criterion = 'gini', class_weight ='balanced', n_estimators=800, max_features='log2', max_depth=30)\n",
    "model.fit(X_train_ros, y_train_ros)\n",
    "y_pred = model.predict(X_test)\n",
    "#test score\n",
    "model.score(X_test, y_test)\n",
    "#0.4932594644506002\n",
    "acc_score = accuracy_score(y_test, y_pred)\n",
    "f1 = f1_score(y_test, y_pred, average='weighted')\n",
    "print('Random Forest classifier+ROS+Class_weight+RandomizedSearchCV  accuracy : ', \"%.2f\" % (acc_score*100))\n",
    "print('Random Forest classifier+ROS+Class_weight+RandomizedSearchCV  F1 : ', \"%.2f\" % (f1*100))"
   ]
  },
  {
   "cell_type": "code",
   "execution_count": 703,
   "id": "4d0f4740",
   "metadata": {},
   "outputs": [
    {
     "name": "stdout",
     "output_type": "stream",
     "text": [
      "0.7678757934188498\n"
     ]
    },
    {
     "data": {
      "image/png": "[encoded data removed]",
      "text/plain": [
       "<Figure size 432x288 with 1 Axes>"
      ]
     },
     "metadata": {
      "needs_background": "light"
     },
     "output_type": "display_data"
    }
   ],
   "source": [
    "from sklearn.metrics import roc_curve, auc, roc_auc_score\n",
    "roc_auc = roc_auc_score(y_test, model.predict(X_test))\n",
    "print(roc_auc)\n",
    "#Obtaining false and true positives & thresholds\n",
    "fpr, tpr, thresholds = roc_curve(y_test, model.predict_proba(X_test)[:,1])\n",
    "plt.plot(fpr, tpr, label='Random Forest classifier (area = %0.03f)' % roc_auc)\n",
    "plt.plot([0, 1], [0, 1],'r--')\n",
    "plt.xlim([0.0, 1.0])\n",
    "plt.ylim([0.0, 1.05])\n",
    "plt.xlabel('FPR')\n",
    "plt.ylabel('TPR')\n",
    "plt.title('ROC curve for Random Forest classifier')\n",
    "plt.legend(loc=\"upper left\")\n",
    "plt.show()"
   ]
  },
  {
   "cell_type": "markdown",
   "id": "a3b28a4f",
   "metadata": {},
   "source": [
    "###### feature_importance"
   ]
  },
  {
   "cell_type": "code",
   "execution_count": 704,
   "id": "48c53b9c",
   "metadata": {},
   "outputs": [
    {
     "name": "stdout",
     "output_type": "stream",
     "text": [
      "30\n"
     ]
    },
    {
     "data": {
      "image/png": "[encoded data removed]",
      "text/plain": [
       "<Figure size 720x720 with 1 Axes>"
      ]
     },
     "metadata": {
      "needs_background": "light"
     },
     "output_type": "display_data"
    }
   ],
   "source": [
    "feature_importance = model.feature_importances_\n",
    "# make importances relative to max importance\n",
    "feature_importance = 100.0 * (feature_importance / feature_importance.max())[:30]\n",
    "sorted_idx = np.argsort(feature_importance)[:30]\n",
    "\n",
    "pos = np.arange(sorted_idx.shape[0]) + .5\n",
    "print(pos.size)\n",
    "sorted_idx.size\n",
    "plt.figure(figsize=(10,10))\n",
    "plt.barh(pos, feature_importance[sorted_idx], align='center')\n",
    "plt.yticks(pos, X.columns[sorted_idx])\n",
    "plt.xlabel('Relative Importance')\n",
    "plt.title('Variable Importance')\n",
    "plt.show()"
   ]
  },
  {
   "cell_type": "markdown",
   "id": "4951f345",
   "metadata": {},
   "source": [
    "Feature importance shows Duration , Euribor3m  and Age as the important features."
   ]
  },
  {
   "cell_type": "markdown",
   "id": "5c8a9b11",
   "metadata": {},
   "source": [
    "As the problem statement also requires to check the model efficiency without Duration feature, we wil check that below"
   ]
  },
  {
   "cell_type": "code",
   "execution_count": 705,
   "id": "f8d138d5",
   "metadata": {},
   "outputs": [
    {
     "data": {
      "text/html": [
       "<div>\n",
       "<style scoped>\n",
       "    .dataframe tbody tr th:only-of-type {\n",
       "        vertical-align: middle;\n",
       "    }\n",
       "\n",
       "    .dataframe tbody tr th {\n",
       "        vertical-align: top;\n",
       "    }\n",
       "\n",
       "    .dataframe thead th {\n",
       "        text-align: right;\n",
       "    }\n",
       "</style>\n",
       "<table border=\"1\" class=\"dataframe\">\n",
       "  <thead>\n",
       "    <tr style=\"text-align: right;\">\n",
       "      <th></th>\n",
       "      <th>age</th>\n",
       "      <th>duration</th>\n",
       "      <th>campaign</th>\n",
       "      <th>previous</th>\n",
       "      <th>cons_price_idx</th>\n",
       "      <th>cons_conf_idx</th>\n",
       "      <th>euribor3m</th>\n",
       "      <th>job_blue-collar</th>\n",
       "      <th>job_entrepreneur</th>\n",
       "      <th>job_housemaid</th>\n",
       "      <th>...</th>\n",
       "      <th>month_may</th>\n",
       "      <th>month_nov</th>\n",
       "      <th>month_oct</th>\n",
       "      <th>month_sep</th>\n",
       "      <th>day_of_week_mon</th>\n",
       "      <th>day_of_week_thu</th>\n",
       "      <th>day_of_week_tue</th>\n",
       "      <th>day_of_week_wed</th>\n",
       "      <th>poutcome_nonexistent</th>\n",
       "      <th>poutcome_success</th>\n",
       "    </tr>\n",
       "  </thead>\n",
       "  <tbody>\n",
       "    <tr>\n",
       "      <th>34755</th>\n",
       "      <td>38</td>\n",
       "      <td>178</td>\n",
       "      <td>1</td>\n",
       "      <td>0</td>\n",
       "      <td>92.893</td>\n",
       "      <td>-46.2</td>\n",
       "      <td>1.244</td>\n",
       "      <td>1</td>\n",
       "      <td>0</td>\n",
       "      <td>0</td>\n",
       "      <td>...</td>\n",
       "      <td>1</td>\n",
       "      <td>0</td>\n",
       "      <td>0</td>\n",
       "      <td>0</td>\n",
       "      <td>1</td>\n",
       "      <td>0</td>\n",
       "      <td>0</td>\n",
       "      <td>0</td>\n",
       "      <td>1</td>\n",
       "      <td>0</td>\n",
       "    </tr>\n",
       "    <tr>\n",
       "      <th>11065</th>\n",
       "      <td>52</td>\n",
       "      <td>106</td>\n",
       "      <td>2</td>\n",
       "      <td>0</td>\n",
       "      <td>94.465</td>\n",
       "      <td>-41.8</td>\n",
       "      <td>4.961</td>\n",
       "      <td>1</td>\n",
       "      <td>0</td>\n",
       "      <td>0</td>\n",
       "      <td>...</td>\n",
       "      <td>0</td>\n",
       "      <td>0</td>\n",
       "      <td>0</td>\n",
       "      <td>0</td>\n",
       "      <td>0</td>\n",
       "      <td>1</td>\n",
       "      <td>0</td>\n",
       "      <td>0</td>\n",
       "      <td>1</td>\n",
       "      <td>0</td>\n",
       "    </tr>\n",
       "    <tr>\n",
       "      <th>21846</th>\n",
       "      <td>30</td>\n",
       "      <td>72</td>\n",
       "      <td>1</td>\n",
       "      <td>0</td>\n",
       "      <td>93.444</td>\n",
       "      <td>-36.1</td>\n",
       "      <td>4.964</td>\n",
       "      <td>0</td>\n",
       "      <td>0</td>\n",
       "      <td>0</td>\n",
       "      <td>...</td>\n",
       "      <td>0</td>\n",
       "      <td>0</td>\n",
       "      <td>0</td>\n",
       "      <td>0</td>\n",
       "      <td>0</td>\n",
       "      <td>0</td>\n",
       "      <td>0</td>\n",
       "      <td>0</td>\n",
       "      <td>1</td>\n",
       "      <td>0</td>\n",
       "    </tr>\n",
       "    <tr>\n",
       "      <th>8621</th>\n",
       "      <td>29</td>\n",
       "      <td>133</td>\n",
       "      <td>1</td>\n",
       "      <td>0</td>\n",
       "      <td>94.465</td>\n",
       "      <td>-41.8</td>\n",
       "      <td>4.866</td>\n",
       "      <td>0</td>\n",
       "      <td>0</td>\n",
       "      <td>0</td>\n",
       "      <td>...</td>\n",
       "      <td>0</td>\n",
       "      <td>0</td>\n",
       "      <td>0</td>\n",
       "      <td>0</td>\n",
       "      <td>0</td>\n",
       "      <td>1</td>\n",
       "      <td>0</td>\n",
       "      <td>0</td>\n",
       "      <td>1</td>\n",
       "      <td>0</td>\n",
       "    </tr>\n",
       "    <tr>\n",
       "      <th>19928</th>\n",
       "      <td>52</td>\n",
       "      <td>140</td>\n",
       "      <td>3</td>\n",
       "      <td>0</td>\n",
       "      <td>93.444</td>\n",
       "      <td>-36.1</td>\n",
       "      <td>4.966</td>\n",
       "      <td>0</td>\n",
       "      <td>0</td>\n",
       "      <td>1</td>\n",
       "      <td>...</td>\n",
       "      <td>0</td>\n",
       "      <td>0</td>\n",
       "      <td>0</td>\n",
       "      <td>0</td>\n",
       "      <td>0</td>\n",
       "      <td>0</td>\n",
       "      <td>1</td>\n",
       "      <td>0</td>\n",
       "      <td>1</td>\n",
       "      <td>0</td>\n",
       "    </tr>\n",
       "  </tbody>\n",
       "</table>\n",
       "<p>5 rows × 48 columns</p>\n",
       "</div>"
      ],
      "text/plain": [
       "       age  duration  campaign  previous  cons_price_idx  cons_conf_idx  \\\n",
       "34755   38       178         1         0          92.893          -46.2   \n",
       "11065   52       106         2         0          94.465          -41.8   \n",
       "21846   30        72         1         0          93.444          -36.1   \n",
       "8621    29       133         1         0          94.465          -41.8   \n",
       "19928   52       140         3         0          93.444          -36.1   \n",
       "\n",
       "       euribor3m  job_blue-collar  job_entrepreneur  job_housemaid  ...  \\\n",
       "34755      1.244                1                 0              0  ...   \n",
       "11065      4.961                1                 0              0  ...   \n",
       "21846      4.964                0                 0              0  ...   \n",
       "8621       4.866                0                 0              0  ...   \n",
       "19928      4.966                0                 0              1  ...   \n",
       "\n",
       "       month_may  month_nov  month_oct  month_sep  day_of_week_mon  \\\n",
       "34755          1          0          0          0                1   \n",
       "11065          0          0          0          0                0   \n",
       "21846          0          0          0          0                0   \n",
       "8621           0          0          0          0                0   \n",
       "19928          0          0          0          0                0   \n",
       "\n",
       "       day_of_week_thu  day_of_week_tue  day_of_week_wed  \\\n",
       "34755                0                0                0   \n",
       "11065                1                0                0   \n",
       "21846                0                0                0   \n",
       "8621                 1                0                0   \n",
       "19928                0                1                0   \n",
       "\n",
       "       poutcome_nonexistent  poutcome_success  \n",
       "34755                     1                 0  \n",
       "11065                     1                 0  \n",
       "21846                     1                 0  \n",
       "8621                      1                 0  \n",
       "19928                     1                 0  \n",
       "\n",
       "[5 rows x 48 columns]"
      ]
     },
     "execution_count": 705,
     "metadata": {},
     "output_type": "execute_result"
    }
   ],
   "source": [
    "X_train.head()"
   ]
  },
  {
   "cell_type": "code",
   "execution_count": 706,
   "id": "92d590de",
   "metadata": {},
   "outputs": [],
   "source": [
    "X_train_new = X_train.drop('duration', axis=1)\n",
    "X_test_new = X_test.drop('duration', axis=1)"
   ]
  },
  {
   "cell_type": "code",
   "execution_count": 707,
   "id": "eea2090b",
   "metadata": {},
   "outputs": [
    {
     "data": {
      "text/plain": [
       "((31392, 47), (7849, 47), (31392,), (7849,))"
      ]
     },
     "execution_count": 707,
     "metadata": {},
     "output_type": "execute_result"
    }
   ],
   "source": [
    "X_train_new.shape, X_test_new.shape,y_train.shape, y_test.shape"
   ]
  },
  {
   "cell_type": "code",
   "execution_count": 708,
   "id": "4a90fad2",
   "metadata": {},
   "outputs": [
    {
     "data": {
      "text/plain": [
       "Index(['age', 'campaign', 'previous', 'cons_price_idx', 'cons_conf_idx',\n",
       "       'euribor3m', 'job_blue-collar', 'job_entrepreneur', 'job_housemaid',\n",
       "       'job_management', 'job_retired', 'job_self-employed', 'job_services',\n",
       "       'job_student', 'job_technician', 'job_unemployed', 'job_unknown',\n",
       "       'marital_married', 'marital_single', 'marital_unknown',\n",
       "       'education_basic.6y', 'education_basic.9y', 'education_high.school',\n",
       "       'education_illiterate', 'education_professional.course',\n",
       "       'education_university.degree', 'education_unknown', 'housing_unknown',\n",
       "       'housing_yes', 'loan_unknown', 'loan_yes', 'contact_telephone',\n",
       "       'month_aug', 'month_dec', 'month_jul', 'month_jun', 'month_mar',\n",
       "       'month_may', 'month_nov', 'month_oct', 'month_sep', 'day_of_week_mon',\n",
       "       'day_of_week_thu', 'day_of_week_tue', 'day_of_week_wed',\n",
       "       'poutcome_nonexistent', 'poutcome_success'],\n",
       "      dtype='object')"
      ]
     },
     "execution_count": 708,
     "metadata": {},
     "output_type": "execute_result"
    }
   ],
   "source": [
    "X_train_new.columns"
   ]
  },
  {
   "cell_type": "code",
   "execution_count": 711,
   "id": "a01aeaf1",
   "metadata": {},
   "outputs": [
    {
     "data": {
      "text/plain": [
       "{0: 28307, 1: 28307}"
      ]
     },
     "execution_count": 711,
     "metadata": {},
     "output_type": "execute_result"
    }
   ],
   "source": [
    "from imblearn.over_sampling import RandomOverSampler\n",
    "ros1 = RandomOverSampler(random_state=42)\n",
    "X_train_ros1, y_train_ros1 = ros1.fit_resample(X_train_new, y_train)\n",
    "\n",
    "# counts after over_sampling\n",
    "#y_train_ros.value_counts()\n",
    "unique, counts = np.unique(y_train_ros1, return_counts=True)\n",
    "dict(zip(unique, counts))"
   ]
  },
  {
   "cell_type": "code",
   "execution_count": 567,
   "id": "14251b1b",
   "metadata": {},
   "outputs": [
    {
     "name": "stdout",
     "output_type": "stream",
     "text": [
      "2022-09-19 12:50:49.524625\n",
      "RandomizedSearchCV Best Score:0.9700251092430466\n",
      "RandomizedSearchCV Best Parameters: {'n_estimators': 400, 'max_features': 'auto', 'max_depth': 30, 'criterion': 'gini'}\n",
      "2022-09-19 14:00:46.409853\n"
     ]
    }
   ],
   "source": [
    "param_grid = { \n",
    "    'n_estimators': [200, 400, 800],\n",
    "    'max_features': ['auto', 'log2'],\n",
    "    'max_depth' : [10,20,30,40],\n",
    "    'criterion' :['gini', 'entropy']\n",
    "}\n",
    "# calculate the o of iterations here which is 3*2*4*2 =48. we shoud ideally give less than 48.\n",
    "from datetime import datetime\n",
    "print(datetime.now())\n",
    "rfc = RandomForestClassifier(random_state=42)\n",
    "rfc_random = RandomizedSearchCV(estimator = rfc, param_distributions = param_grid, n_iter = 24, cv = 5,random_state=42)\n",
    "rfc_random.fit(X_train_ros1, y_train_ros1)\n",
    "print(\"RandomizedSearchCV Best Score:\" + str(rfc_random.best_score_))\n",
    "print(\"RandomizedSearchCV Best Parameters: \" + str(rfc_random.best_params_))\n",
    "print(datetime.now())"
   ]
  },
  {
   "cell_type": "code",
   "execution_count": 712,
   "id": "e19435b3",
   "metadata": {},
   "outputs": [
    {
     "name": "stdout",
     "output_type": "stream",
     "text": [
      "Random Forest classifier+ROS+Class_weight+RandomizedSearchCV  accuracy :  88.95\n",
      "Random Forest classifier+ROS+Class_weight+RandomizedSearchCV  F1 :  88.56\n"
     ]
    }
   ],
   "source": [
    "model1 = RandomForestClassifier(random_state=42, criterion = 'gini', class_weight ='balanced', n_estimators=400, max_features='auto', max_depth=30)\n",
    "model1.fit(X_train_ros1, y_train_ros1)\n",
    "y_pred = model1.predict(X_test_new)\n",
    "#test score\n",
    "model1.score(X_test_new, y_test)\n",
    "acc_score = accuracy_score(y_test, y_pred)\n",
    "f1 = f1_score(y_test, y_pred, average='weighted')\n",
    "print('Random Forest classifier+ROS+Class_weight+RandomizedSearchCV  accuracy : ', \"%.2f\" % (acc_score*100))\n",
    "print('Random Forest classifier+ROS+Class_weight+RandomizedSearchCV  F1 : ', \"%.2f\" % (f1*100))"
   ]
  },
  {
   "cell_type": "code",
   "execution_count": 713,
   "id": "f49567b8",
   "metadata": {},
   "outputs": [
    {
     "data": {
      "text/plain": [
       "array([[6644,  372],\n",
       "       [ 495,  338]], dtype=int64)"
      ]
     },
     "execution_count": 713,
     "metadata": {},
     "output_type": "execute_result"
    }
   ],
   "source": [
    "cm = confusion_matrix(y_test, y_pred)\n",
    "cm"
   ]
  },
  {
   "cell_type": "code",
   "execution_count": 715,
   "id": "66908e97",
   "metadata": {},
   "outputs": [
    {
     "data": {
      "image/png": "[encoded data removed]",
      "text/plain": [
       "<Figure size 432x288 with 1 Axes>"
      ]
     },
     "metadata": {
      "needs_background": "light"
     },
     "output_type": "display_data"
    }
   ],
   "source": [
    "from sklearn.metrics import roc_curve, auc, roc_auc_score\n",
    "roc_auc = roc_auc_score(y_test, model1.predict(X_test_new))\n",
    "#Obtaining false and true positives & thresholds\n",
    "fpr, tpr, thresholds = roc_curve(y_test, model1.predict_proba(X_test_new)[:,1])\n",
    "plt.plot(fpr, tpr, label='Random Forest classifier (area = %0.03f)' % roc_auc)\n",
    "plt.plot([0, 1], [0, 1],'r--')\n",
    "plt.xlim([0.0, 1.0])\n",
    "plt.ylim([0.0, 1.05])\n",
    "plt.xlabel('FPR')\n",
    "plt.ylabel('TPR')\n",
    "plt.title('ROC curve for Random Forest classifier')\n",
    "plt.legend(loc=\"upper left\")\n",
    "plt.show()"
   ]
  },
  {
   "cell_type": "code",
   "execution_count": 716,
   "id": "55991b91",
   "metadata": {},
   "outputs": [],
   "source": [
    "feature_importance = model1.feature_importances_\n",
    "feature_importance = 100.0 * (feature_importance / feature_importance.max())[:30]\n",
    "sorted_idx = np.argsort(feature_importance)[:30]"
   ]
  },
  {
   "cell_type": "code",
   "execution_count": 717,
   "id": "6a01c5b9",
   "metadata": {},
   "outputs": [
    {
     "name": "stdout",
     "output_type": "stream",
     "text": [
      "30\n"
     ]
    },
    {
     "data": {
      "image/png": "[encoded data removed]",
      "text/plain": [
       "<Figure size 720x720 with 1 Axes>"
      ]
     },
     "metadata": {
      "needs_background": "light"
     },
     "output_type": "display_data"
    }
   ],
   "source": [
    "feature_importance = model1.feature_importances_\n",
    "# make importances relative to max importance\n",
    "feature_importance = 100.0 * (feature_importance / feature_importance.max())[:30]\n",
    "sorted_idx = np.argsort(feature_importance)[:30]\n",
    "\n",
    "pos = np.arange(sorted_idx.shape[0]) + .5\n",
    "print(pos.size)\n",
    "sorted_idx.size\n",
    "plt.figure(figsize=(10,10))\n",
    "plt.barh(pos, feature_importance[sorted_idx], align='center')\n",
    "plt.yticks(pos, X_train_new.columns[sorted_idx])\n",
    "plt.xlabel('Relative Importance')\n",
    "plt.title('Variable Importance')\n",
    "plt.show()"
   ]
  },
  {
   "cell_type": "code",
   "execution_count": null,
   "id": "48fcdd06",
   "metadata": {},
   "outputs": [],
   "source": [
    "Feature importance shows cons_conf_idx, age as the important features."
   ]
  },
  {
   "cell_type": "markdown",
   "id": "55b1caba",
   "metadata": {},
   "source": [
    "### Deployment"
   ]
  },
  {
   "cell_type": "code",
   "execution_count": 718,
   "id": "77eb72b6",
   "metadata": {},
   "outputs": [],
   "source": [
    "#Dumping the model object\n",
    "import pickle\n",
    "pickle.dump(model, open('term_deposit_prediction.pkl','wb'))"
   ]
  }
 ],
 "metadata": {
  "kernelspec": {
   "display_name": "Python 3",
   "language": "python",
   "name": "python3"
  },
  "language_info": {
   "codemirror_mode": {
    "name": "ipython",
    "version": 3
   },
   "file_extension": ".py",
   "mimetype": "text/x-python",
   "name": "python",
   "nbconvert_exporter": "python",
   "pygments_lexer": "ipython3",
   "version": "3.8.8"
  }
 },
 "nbformat": 4,
 "nbformat_minor": 5
}
